{
 "cells": [
  {
   "cell_type": "markdown",
   "id": "108776ad",
   "metadata": {},
   "source": [
    "# Lending Club Case Study\n",
    "\n",
    "## Done by:\n",
    "### Archa S A , Gopika GS"
   ]
  },
  {
   "cell_type": "markdown",
   "id": "8e243821",
   "metadata": {},
   "source": [
    "## Data Cleaning"
   ]
  },
  {
   "cell_type": "markdown",
   "id": "821858c6",
   "metadata": {},
   "source": [
    "#### Importing the libraries"
   ]
  },
  {
   "cell_type": "code",
   "execution_count": 1,
   "id": "6c4f5592",
   "metadata": {},
   "outputs": [],
   "source": [
    "import numpy as np\n",
    "import pandas as pd\n",
    "import matplotlib.pyplot as plt\n",
    "import seaborn as sns"
   ]
  },
  {
   "cell_type": "markdown",
   "id": "e005c880",
   "metadata": {},
   "source": [
    "#### Removing the warnings"
   ]
  },
  {
   "cell_type": "code",
   "execution_count": 2,
   "id": "0cdf701a",
   "metadata": {},
   "outputs": [],
   "source": [
    "import warnings\n",
    "warnings.filterwarnings('ignore')"
   ]
  },
  {
   "cell_type": "markdown",
   "id": "5cdb06ce",
   "metadata": {},
   "source": [
    "#### Reading the data file"
   ]
  },
  {
   "cell_type": "markdown",
   "id": "8314c1c3",
   "metadata": {},
   "source": [
    "Finding the encoding of loan.csv file"
   ]
  },
  {
   "cell_type": "code",
   "execution_count": 3,
   "id": "ec89a939",
   "metadata": {},
   "outputs": [
    {
     "name": "stdout",
     "output_type": "stream",
     "text": [
      "{'encoding': 'utf-8', 'confidence': 0.99, 'language': ''}\n"
     ]
    }
   ],
   "source": [
    "import chardet    \n",
    "rawdata = open(\"loan.csv\", 'rb').read()\n",
    "result = chardet.detect(rawdata)\n",
    "charenc = result['encoding']\n",
    "print(result)"
   ]
  },
  {
   "cell_type": "markdown",
   "id": "f3a58f6d",
   "metadata": {},
   "source": [
    "Reading loan.csv file"
   ]
  },
  {
   "cell_type": "code",
   "execution_count": 4,
   "id": "24a9821e",
   "metadata": {},
   "outputs": [],
   "source": [
    "loan  = pd.read_csv('loan.csv',encoding = \"utf-8\")"
   ]
  },
  {
   "cell_type": "code",
   "execution_count": 5,
   "id": "66784b69",
   "metadata": {},
   "outputs": [
    {
     "name": "stdout",
     "output_type": "stream",
     "text": [
      "<class 'pandas.core.frame.DataFrame'>\n",
      "RangeIndex: 39717 entries, 0 to 39716\n",
      "Columns: 111 entries, id to total_il_high_credit_limit\n",
      "dtypes: float64(74), int64(13), object(24)\n",
      "memory usage: 33.6+ MB\n"
     ]
    }
   ],
   "source": [
    "loan.info()"
   ]
  },
  {
   "cell_type": "code",
   "execution_count": 6,
   "id": "59038361",
   "metadata": {},
   "outputs": [
    {
     "data": {
      "text/plain": [
       "(39717, 111)"
      ]
     },
     "execution_count": 6,
     "metadata": {},
     "output_type": "execute_result"
    }
   ],
   "source": [
    "loan.shape"
   ]
  },
  {
   "cell_type": "code",
   "execution_count": 7,
   "id": "f246779b",
   "metadata": {},
   "outputs": [
    {
     "data": {
      "text/html": [
       "<div>\n",
       "<style scoped>\n",
       "    .dataframe tbody tr th:only-of-type {\n",
       "        vertical-align: middle;\n",
       "    }\n",
       "\n",
       "    .dataframe tbody tr th {\n",
       "        vertical-align: top;\n",
       "    }\n",
       "\n",
       "    .dataframe thead th {\n",
       "        text-align: right;\n",
       "    }\n",
       "</style>\n",
       "<table border=\"1\" class=\"dataframe\">\n",
       "  <thead>\n",
       "    <tr style=\"text-align: right;\">\n",
       "      <th></th>\n",
       "      <th>id</th>\n",
       "      <th>member_id</th>\n",
       "      <th>loan_amnt</th>\n",
       "      <th>funded_amnt</th>\n",
       "      <th>funded_amnt_inv</th>\n",
       "      <th>term</th>\n",
       "      <th>int_rate</th>\n",
       "      <th>installment</th>\n",
       "      <th>grade</th>\n",
       "      <th>sub_grade</th>\n",
       "      <th>...</th>\n",
       "      <th>num_tl_90g_dpd_24m</th>\n",
       "      <th>num_tl_op_past_12m</th>\n",
       "      <th>pct_tl_nvr_dlq</th>\n",
       "      <th>percent_bc_gt_75</th>\n",
       "      <th>pub_rec_bankruptcies</th>\n",
       "      <th>tax_liens</th>\n",
       "      <th>tot_hi_cred_lim</th>\n",
       "      <th>total_bal_ex_mort</th>\n",
       "      <th>total_bc_limit</th>\n",
       "      <th>total_il_high_credit_limit</th>\n",
       "    </tr>\n",
       "  </thead>\n",
       "  <tbody>\n",
       "    <tr>\n",
       "      <th>0</th>\n",
       "      <td>1077501</td>\n",
       "      <td>1296599</td>\n",
       "      <td>5000</td>\n",
       "      <td>5000</td>\n",
       "      <td>4975.0</td>\n",
       "      <td>36 months</td>\n",
       "      <td>10.65%</td>\n",
       "      <td>162.87</td>\n",
       "      <td>B</td>\n",
       "      <td>B2</td>\n",
       "      <td>...</td>\n",
       "      <td>NaN</td>\n",
       "      <td>NaN</td>\n",
       "      <td>NaN</td>\n",
       "      <td>NaN</td>\n",
       "      <td>0.0</td>\n",
       "      <td>0.0</td>\n",
       "      <td>NaN</td>\n",
       "      <td>NaN</td>\n",
       "      <td>NaN</td>\n",
       "      <td>NaN</td>\n",
       "    </tr>\n",
       "    <tr>\n",
       "      <th>1</th>\n",
       "      <td>1077430</td>\n",
       "      <td>1314167</td>\n",
       "      <td>2500</td>\n",
       "      <td>2500</td>\n",
       "      <td>2500.0</td>\n",
       "      <td>60 months</td>\n",
       "      <td>15.27%</td>\n",
       "      <td>59.83</td>\n",
       "      <td>C</td>\n",
       "      <td>C4</td>\n",
       "      <td>...</td>\n",
       "      <td>NaN</td>\n",
       "      <td>NaN</td>\n",
       "      <td>NaN</td>\n",
       "      <td>NaN</td>\n",
       "      <td>0.0</td>\n",
       "      <td>0.0</td>\n",
       "      <td>NaN</td>\n",
       "      <td>NaN</td>\n",
       "      <td>NaN</td>\n",
       "      <td>NaN</td>\n",
       "    </tr>\n",
       "    <tr>\n",
       "      <th>2</th>\n",
       "      <td>1077175</td>\n",
       "      <td>1313524</td>\n",
       "      <td>2400</td>\n",
       "      <td>2400</td>\n",
       "      <td>2400.0</td>\n",
       "      <td>36 months</td>\n",
       "      <td>15.96%</td>\n",
       "      <td>84.33</td>\n",
       "      <td>C</td>\n",
       "      <td>C5</td>\n",
       "      <td>...</td>\n",
       "      <td>NaN</td>\n",
       "      <td>NaN</td>\n",
       "      <td>NaN</td>\n",
       "      <td>NaN</td>\n",
       "      <td>0.0</td>\n",
       "      <td>0.0</td>\n",
       "      <td>NaN</td>\n",
       "      <td>NaN</td>\n",
       "      <td>NaN</td>\n",
       "      <td>NaN</td>\n",
       "    </tr>\n",
       "    <tr>\n",
       "      <th>3</th>\n",
       "      <td>1076863</td>\n",
       "      <td>1277178</td>\n",
       "      <td>10000</td>\n",
       "      <td>10000</td>\n",
       "      <td>10000.0</td>\n",
       "      <td>36 months</td>\n",
       "      <td>13.49%</td>\n",
       "      <td>339.31</td>\n",
       "      <td>C</td>\n",
       "      <td>C1</td>\n",
       "      <td>...</td>\n",
       "      <td>NaN</td>\n",
       "      <td>NaN</td>\n",
       "      <td>NaN</td>\n",
       "      <td>NaN</td>\n",
       "      <td>0.0</td>\n",
       "      <td>0.0</td>\n",
       "      <td>NaN</td>\n",
       "      <td>NaN</td>\n",
       "      <td>NaN</td>\n",
       "      <td>NaN</td>\n",
       "    </tr>\n",
       "    <tr>\n",
       "      <th>4</th>\n",
       "      <td>1075358</td>\n",
       "      <td>1311748</td>\n",
       "      <td>3000</td>\n",
       "      <td>3000</td>\n",
       "      <td>3000.0</td>\n",
       "      <td>60 months</td>\n",
       "      <td>12.69%</td>\n",
       "      <td>67.79</td>\n",
       "      <td>B</td>\n",
       "      <td>B5</td>\n",
       "      <td>...</td>\n",
       "      <td>NaN</td>\n",
       "      <td>NaN</td>\n",
       "      <td>NaN</td>\n",
       "      <td>NaN</td>\n",
       "      <td>0.0</td>\n",
       "      <td>0.0</td>\n",
       "      <td>NaN</td>\n",
       "      <td>NaN</td>\n",
       "      <td>NaN</td>\n",
       "      <td>NaN</td>\n",
       "    </tr>\n",
       "    <tr>\n",
       "      <th>5</th>\n",
       "      <td>1075269</td>\n",
       "      <td>1311441</td>\n",
       "      <td>5000</td>\n",
       "      <td>5000</td>\n",
       "      <td>5000.0</td>\n",
       "      <td>36 months</td>\n",
       "      <td>7.90%</td>\n",
       "      <td>156.46</td>\n",
       "      <td>A</td>\n",
       "      <td>A4</td>\n",
       "      <td>...</td>\n",
       "      <td>NaN</td>\n",
       "      <td>NaN</td>\n",
       "      <td>NaN</td>\n",
       "      <td>NaN</td>\n",
       "      <td>0.0</td>\n",
       "      <td>0.0</td>\n",
       "      <td>NaN</td>\n",
       "      <td>NaN</td>\n",
       "      <td>NaN</td>\n",
       "      <td>NaN</td>\n",
       "    </tr>\n",
       "    <tr>\n",
       "      <th>6</th>\n",
       "      <td>1069639</td>\n",
       "      <td>1304742</td>\n",
       "      <td>7000</td>\n",
       "      <td>7000</td>\n",
       "      <td>7000.0</td>\n",
       "      <td>60 months</td>\n",
       "      <td>15.96%</td>\n",
       "      <td>170.08</td>\n",
       "      <td>C</td>\n",
       "      <td>C5</td>\n",
       "      <td>...</td>\n",
       "      <td>NaN</td>\n",
       "      <td>NaN</td>\n",
       "      <td>NaN</td>\n",
       "      <td>NaN</td>\n",
       "      <td>0.0</td>\n",
       "      <td>0.0</td>\n",
       "      <td>NaN</td>\n",
       "      <td>NaN</td>\n",
       "      <td>NaN</td>\n",
       "      <td>NaN</td>\n",
       "    </tr>\n",
       "    <tr>\n",
       "      <th>7</th>\n",
       "      <td>1072053</td>\n",
       "      <td>1288686</td>\n",
       "      <td>3000</td>\n",
       "      <td>3000</td>\n",
       "      <td>3000.0</td>\n",
       "      <td>36 months</td>\n",
       "      <td>18.64%</td>\n",
       "      <td>109.43</td>\n",
       "      <td>E</td>\n",
       "      <td>E1</td>\n",
       "      <td>...</td>\n",
       "      <td>NaN</td>\n",
       "      <td>NaN</td>\n",
       "      <td>NaN</td>\n",
       "      <td>NaN</td>\n",
       "      <td>0.0</td>\n",
       "      <td>0.0</td>\n",
       "      <td>NaN</td>\n",
       "      <td>NaN</td>\n",
       "      <td>NaN</td>\n",
       "      <td>NaN</td>\n",
       "    </tr>\n",
       "    <tr>\n",
       "      <th>8</th>\n",
       "      <td>1071795</td>\n",
       "      <td>1306957</td>\n",
       "      <td>5600</td>\n",
       "      <td>5600</td>\n",
       "      <td>5600.0</td>\n",
       "      <td>60 months</td>\n",
       "      <td>21.28%</td>\n",
       "      <td>152.39</td>\n",
       "      <td>F</td>\n",
       "      <td>F2</td>\n",
       "      <td>...</td>\n",
       "      <td>NaN</td>\n",
       "      <td>NaN</td>\n",
       "      <td>NaN</td>\n",
       "      <td>NaN</td>\n",
       "      <td>0.0</td>\n",
       "      <td>0.0</td>\n",
       "      <td>NaN</td>\n",
       "      <td>NaN</td>\n",
       "      <td>NaN</td>\n",
       "      <td>NaN</td>\n",
       "    </tr>\n",
       "    <tr>\n",
       "      <th>9</th>\n",
       "      <td>1071570</td>\n",
       "      <td>1306721</td>\n",
       "      <td>5375</td>\n",
       "      <td>5375</td>\n",
       "      <td>5350.0</td>\n",
       "      <td>60 months</td>\n",
       "      <td>12.69%</td>\n",
       "      <td>121.45</td>\n",
       "      <td>B</td>\n",
       "      <td>B5</td>\n",
       "      <td>...</td>\n",
       "      <td>NaN</td>\n",
       "      <td>NaN</td>\n",
       "      <td>NaN</td>\n",
       "      <td>NaN</td>\n",
       "      <td>0.0</td>\n",
       "      <td>0.0</td>\n",
       "      <td>NaN</td>\n",
       "      <td>NaN</td>\n",
       "      <td>NaN</td>\n",
       "      <td>NaN</td>\n",
       "    </tr>\n",
       "    <tr>\n",
       "      <th>10</th>\n",
       "      <td>1070078</td>\n",
       "      <td>1305201</td>\n",
       "      <td>6500</td>\n",
       "      <td>6500</td>\n",
       "      <td>6500.0</td>\n",
       "      <td>60 months</td>\n",
       "      <td>14.65%</td>\n",
       "      <td>153.45</td>\n",
       "      <td>C</td>\n",
       "      <td>C3</td>\n",
       "      <td>...</td>\n",
       "      <td>NaN</td>\n",
       "      <td>NaN</td>\n",
       "      <td>NaN</td>\n",
       "      <td>NaN</td>\n",
       "      <td>0.0</td>\n",
       "      <td>0.0</td>\n",
       "      <td>NaN</td>\n",
       "      <td>NaN</td>\n",
       "      <td>NaN</td>\n",
       "      <td>NaN</td>\n",
       "    </tr>\n",
       "    <tr>\n",
       "      <th>11</th>\n",
       "      <td>1069908</td>\n",
       "      <td>1305008</td>\n",
       "      <td>12000</td>\n",
       "      <td>12000</td>\n",
       "      <td>12000.0</td>\n",
       "      <td>36 months</td>\n",
       "      <td>12.69%</td>\n",
       "      <td>402.54</td>\n",
       "      <td>B</td>\n",
       "      <td>B5</td>\n",
       "      <td>...</td>\n",
       "      <td>NaN</td>\n",
       "      <td>NaN</td>\n",
       "      <td>NaN</td>\n",
       "      <td>NaN</td>\n",
       "      <td>0.0</td>\n",
       "      <td>0.0</td>\n",
       "      <td>NaN</td>\n",
       "      <td>NaN</td>\n",
       "      <td>NaN</td>\n",
       "      <td>NaN</td>\n",
       "    </tr>\n",
       "    <tr>\n",
       "      <th>12</th>\n",
       "      <td>1064687</td>\n",
       "      <td>1298717</td>\n",
       "      <td>9000</td>\n",
       "      <td>9000</td>\n",
       "      <td>9000.0</td>\n",
       "      <td>36 months</td>\n",
       "      <td>13.49%</td>\n",
       "      <td>305.38</td>\n",
       "      <td>C</td>\n",
       "      <td>C1</td>\n",
       "      <td>...</td>\n",
       "      <td>NaN</td>\n",
       "      <td>NaN</td>\n",
       "      <td>NaN</td>\n",
       "      <td>NaN</td>\n",
       "      <td>0.0</td>\n",
       "      <td>0.0</td>\n",
       "      <td>NaN</td>\n",
       "      <td>NaN</td>\n",
       "      <td>NaN</td>\n",
       "      <td>NaN</td>\n",
       "    </tr>\n",
       "    <tr>\n",
       "      <th>13</th>\n",
       "      <td>1069866</td>\n",
       "      <td>1304956</td>\n",
       "      <td>3000</td>\n",
       "      <td>3000</td>\n",
       "      <td>3000.0</td>\n",
       "      <td>36 months</td>\n",
       "      <td>9.91%</td>\n",
       "      <td>96.68</td>\n",
       "      <td>B</td>\n",
       "      <td>B1</td>\n",
       "      <td>...</td>\n",
       "      <td>NaN</td>\n",
       "      <td>NaN</td>\n",
       "      <td>NaN</td>\n",
       "      <td>NaN</td>\n",
       "      <td>0.0</td>\n",
       "      <td>0.0</td>\n",
       "      <td>NaN</td>\n",
       "      <td>NaN</td>\n",
       "      <td>NaN</td>\n",
       "      <td>NaN</td>\n",
       "    </tr>\n",
       "    <tr>\n",
       "      <th>14</th>\n",
       "      <td>1069057</td>\n",
       "      <td>1303503</td>\n",
       "      <td>10000</td>\n",
       "      <td>10000</td>\n",
       "      <td>10000.0</td>\n",
       "      <td>36 months</td>\n",
       "      <td>10.65%</td>\n",
       "      <td>325.74</td>\n",
       "      <td>B</td>\n",
       "      <td>B2</td>\n",
       "      <td>...</td>\n",
       "      <td>NaN</td>\n",
       "      <td>NaN</td>\n",
       "      <td>NaN</td>\n",
       "      <td>NaN</td>\n",
       "      <td>0.0</td>\n",
       "      <td>0.0</td>\n",
       "      <td>NaN</td>\n",
       "      <td>NaN</td>\n",
       "      <td>NaN</td>\n",
       "      <td>NaN</td>\n",
       "    </tr>\n",
       "  </tbody>\n",
       "</table>\n",
       "<p>15 rows × 111 columns</p>\n",
       "</div>"
      ],
      "text/plain": [
       "         id  member_id  loan_amnt  funded_amnt  funded_amnt_inv        term  \\\n",
       "0   1077501    1296599       5000         5000           4975.0   36 months   \n",
       "1   1077430    1314167       2500         2500           2500.0   60 months   \n",
       "2   1077175    1313524       2400         2400           2400.0   36 months   \n",
       "3   1076863    1277178      10000        10000          10000.0   36 months   \n",
       "4   1075358    1311748       3000         3000           3000.0   60 months   \n",
       "5   1075269    1311441       5000         5000           5000.0   36 months   \n",
       "6   1069639    1304742       7000         7000           7000.0   60 months   \n",
       "7   1072053    1288686       3000         3000           3000.0   36 months   \n",
       "8   1071795    1306957       5600         5600           5600.0   60 months   \n",
       "9   1071570    1306721       5375         5375           5350.0   60 months   \n",
       "10  1070078    1305201       6500         6500           6500.0   60 months   \n",
       "11  1069908    1305008      12000        12000          12000.0   36 months   \n",
       "12  1064687    1298717       9000         9000           9000.0   36 months   \n",
       "13  1069866    1304956       3000         3000           3000.0   36 months   \n",
       "14  1069057    1303503      10000        10000          10000.0   36 months   \n",
       "\n",
       "   int_rate  installment grade sub_grade  ... num_tl_90g_dpd_24m  \\\n",
       "0    10.65%       162.87     B        B2  ...                NaN   \n",
       "1    15.27%        59.83     C        C4  ...                NaN   \n",
       "2    15.96%        84.33     C        C5  ...                NaN   \n",
       "3    13.49%       339.31     C        C1  ...                NaN   \n",
       "4    12.69%        67.79     B        B5  ...                NaN   \n",
       "5     7.90%       156.46     A        A4  ...                NaN   \n",
       "6    15.96%       170.08     C        C5  ...                NaN   \n",
       "7    18.64%       109.43     E        E1  ...                NaN   \n",
       "8    21.28%       152.39     F        F2  ...                NaN   \n",
       "9    12.69%       121.45     B        B5  ...                NaN   \n",
       "10   14.65%       153.45     C        C3  ...                NaN   \n",
       "11   12.69%       402.54     B        B5  ...                NaN   \n",
       "12   13.49%       305.38     C        C1  ...                NaN   \n",
       "13    9.91%        96.68     B        B1  ...                NaN   \n",
       "14   10.65%       325.74     B        B2  ...                NaN   \n",
       "\n",
       "   num_tl_op_past_12m pct_tl_nvr_dlq  percent_bc_gt_75 pub_rec_bankruptcies  \\\n",
       "0                 NaN            NaN               NaN                  0.0   \n",
       "1                 NaN            NaN               NaN                  0.0   \n",
       "2                 NaN            NaN               NaN                  0.0   \n",
       "3                 NaN            NaN               NaN                  0.0   \n",
       "4                 NaN            NaN               NaN                  0.0   \n",
       "5                 NaN            NaN               NaN                  0.0   \n",
       "6                 NaN            NaN               NaN                  0.0   \n",
       "7                 NaN            NaN               NaN                  0.0   \n",
       "8                 NaN            NaN               NaN                  0.0   \n",
       "9                 NaN            NaN               NaN                  0.0   \n",
       "10                NaN            NaN               NaN                  0.0   \n",
       "11                NaN            NaN               NaN                  0.0   \n",
       "12                NaN            NaN               NaN                  0.0   \n",
       "13                NaN            NaN               NaN                  0.0   \n",
       "14                NaN            NaN               NaN                  0.0   \n",
       "\n",
       "   tax_liens tot_hi_cred_lim total_bal_ex_mort total_bc_limit  \\\n",
       "0        0.0             NaN               NaN            NaN   \n",
       "1        0.0             NaN               NaN            NaN   \n",
       "2        0.0             NaN               NaN            NaN   \n",
       "3        0.0             NaN               NaN            NaN   \n",
       "4        0.0             NaN               NaN            NaN   \n",
       "5        0.0             NaN               NaN            NaN   \n",
       "6        0.0             NaN               NaN            NaN   \n",
       "7        0.0             NaN               NaN            NaN   \n",
       "8        0.0             NaN               NaN            NaN   \n",
       "9        0.0             NaN               NaN            NaN   \n",
       "10       0.0             NaN               NaN            NaN   \n",
       "11       0.0             NaN               NaN            NaN   \n",
       "12       0.0             NaN               NaN            NaN   \n",
       "13       0.0             NaN               NaN            NaN   \n",
       "14       0.0             NaN               NaN            NaN   \n",
       "\n",
       "   total_il_high_credit_limit  \n",
       "0                         NaN  \n",
       "1                         NaN  \n",
       "2                         NaN  \n",
       "3                         NaN  \n",
       "4                         NaN  \n",
       "5                         NaN  \n",
       "6                         NaN  \n",
       "7                         NaN  \n",
       "8                         NaN  \n",
       "9                         NaN  \n",
       "10                        NaN  \n",
       "11                        NaN  \n",
       "12                        NaN  \n",
       "13                        NaN  \n",
       "14                        NaN  \n",
       "\n",
       "[15 rows x 111 columns]"
      ]
     },
     "execution_count": 7,
     "metadata": {},
     "output_type": "execute_result"
    }
   ],
   "source": [
    "#checking first 15 rows of datafram\n",
    "loan.head(15)"
   ]
  },
  {
   "cell_type": "code",
   "execution_count": 8,
   "id": "2693c329",
   "metadata": {},
   "outputs": [
    {
     "data": {
      "text/plain": [
       "id                              int64\n",
       "member_id                       int64\n",
       "loan_amnt                       int64\n",
       "funded_amnt                     int64\n",
       "funded_amnt_inv               float64\n",
       "                               ...   \n",
       "tax_liens                     float64\n",
       "tot_hi_cred_lim               float64\n",
       "total_bal_ex_mort             float64\n",
       "total_bc_limit                float64\n",
       "total_il_high_credit_limit    float64\n",
       "Length: 111, dtype: object"
      ]
     },
     "execution_count": 8,
     "metadata": {},
     "output_type": "execute_result"
    }
   ],
   "source": [
    "#chcking the datatypes of columns i dataframe\n",
    "loan.dtypes"
   ]
  },
  {
   "cell_type": "code",
   "execution_count": 9,
   "id": "51070148",
   "metadata": {},
   "outputs": [
    {
     "data": {
      "text/plain": [
       "id                                0\n",
       "member_id                         0\n",
       "loan_amnt                         0\n",
       "funded_amnt                       0\n",
       "funded_amnt_inv                   0\n",
       "                              ...  \n",
       "tax_liens                        39\n",
       "tot_hi_cred_lim               39717\n",
       "total_bal_ex_mort             39717\n",
       "total_bc_limit                39717\n",
       "total_il_high_credit_limit    39717\n",
       "Length: 111, dtype: int64"
      ]
     },
     "execution_count": 9,
     "metadata": {},
     "output_type": "execute_result"
    }
   ],
   "source": [
    "#check for null values\n",
    "loan.isnull().sum()"
   ]
  },
  {
   "cell_type": "code",
   "execution_count": 10,
   "id": "20da7e1a",
   "metadata": {},
   "outputs": [
    {
     "data": {
      "text/plain": [
       "id                              0.000000\n",
       "member_id                       0.000000\n",
       "loan_amnt                       0.000000\n",
       "funded_amnt                     0.000000\n",
       "funded_amnt_inv                 0.000000\n",
       "                                 ...    \n",
       "tax_liens                       0.098195\n",
       "tot_hi_cred_lim               100.000000\n",
       "total_bal_ex_mort             100.000000\n",
       "total_bc_limit                100.000000\n",
       "total_il_high_credit_limit    100.000000\n",
       "Length: 111, dtype: float64"
      ]
     },
     "execution_count": 10,
     "metadata": {},
     "output_type": "execute_result"
    }
   ],
   "source": [
    "#checking how many percentage of null values are present in each column\n",
    "(loan.isnull().sum()/len(loan.id))*100"
   ]
  },
  {
   "cell_type": "code",
   "execution_count": 11,
   "id": "0f0ca520",
   "metadata": {},
   "outputs": [
    {
     "data": {
      "text/plain": [
       "emp_title                       6.19\n",
       "emp_length                      2.71\n",
       "desc                           32.58\n",
       "title                           0.03\n",
       "mths_since_last_delinq         64.66\n",
       "                               ...  \n",
       "tax_liens                       0.10\n",
       "tot_hi_cred_lim               100.00\n",
       "total_bal_ex_mort             100.00\n",
       "total_bc_limit                100.00\n",
       "total_il_high_credit_limit    100.00\n",
       "Length: 68, dtype: float64"
      ]
     },
     "execution_count": 11,
     "metadata": {},
     "output_type": "execute_result"
    }
   ],
   "source": [
    "null_columns=round((loan.isnull().sum()/len(loan.id))*100,2)\n",
    "null_columns[null_columns>0]"
   ]
  },
  {
   "cell_type": "code",
   "execution_count": 12,
   "id": "56fea11b",
   "metadata": {},
   "outputs": [],
   "source": [
    "droped_columns=list(null_columns[null_columns>30].index)"
   ]
  },
  {
   "cell_type": "code",
   "execution_count": 13,
   "id": "9ca2c2d9",
   "metadata": {},
   "outputs": [
    {
     "data": {
      "text/plain": [
       "58"
      ]
     },
     "execution_count": 13,
     "metadata": {},
     "output_type": "execute_result"
    }
   ],
   "source": [
    "len(droped_columns)"
   ]
  },
  {
   "cell_type": "code",
   "execution_count": 14,
   "id": "76d0aae8",
   "metadata": {},
   "outputs": [],
   "source": [
    "#dropping the columns with more than 30% null values\n",
    "loan=loan.drop(droped_columns,axis=1)"
   ]
  },
  {
   "cell_type": "code",
   "execution_count": 15,
   "id": "6288d8b7",
   "metadata": {},
   "outputs": [
    {
     "data": {
      "text/plain": [
       "(39717, 53)"
      ]
     },
     "execution_count": 15,
     "metadata": {},
     "output_type": "execute_result"
    }
   ],
   "source": [
    "loan.shape"
   ]
  },
  {
   "cell_type": "code",
   "execution_count": 16,
   "id": "bf4869e8",
   "metadata": {},
   "outputs": [
    {
     "data": {
      "text/html": [
       "<div>\n",
       "<style scoped>\n",
       "    .dataframe tbody tr th:only-of-type {\n",
       "        vertical-align: middle;\n",
       "    }\n",
       "\n",
       "    .dataframe tbody tr th {\n",
       "        vertical-align: top;\n",
       "    }\n",
       "\n",
       "    .dataframe thead th {\n",
       "        text-align: right;\n",
       "    }\n",
       "</style>\n",
       "<table border=\"1\" class=\"dataframe\">\n",
       "  <thead>\n",
       "    <tr style=\"text-align: right;\">\n",
       "      <th></th>\n",
       "      <th>id</th>\n",
       "      <th>member_id</th>\n",
       "      <th>loan_amnt</th>\n",
       "      <th>funded_amnt</th>\n",
       "      <th>funded_amnt_inv</th>\n",
       "      <th>term</th>\n",
       "      <th>int_rate</th>\n",
       "      <th>installment</th>\n",
       "      <th>grade</th>\n",
       "      <th>sub_grade</th>\n",
       "      <th>...</th>\n",
       "      <th>last_pymnt_amnt</th>\n",
       "      <th>last_credit_pull_d</th>\n",
       "      <th>collections_12_mths_ex_med</th>\n",
       "      <th>policy_code</th>\n",
       "      <th>application_type</th>\n",
       "      <th>acc_now_delinq</th>\n",
       "      <th>chargeoff_within_12_mths</th>\n",
       "      <th>delinq_amnt</th>\n",
       "      <th>pub_rec_bankruptcies</th>\n",
       "      <th>tax_liens</th>\n",
       "    </tr>\n",
       "  </thead>\n",
       "  <tbody>\n",
       "    <tr>\n",
       "      <th>0</th>\n",
       "      <td>1077501</td>\n",
       "      <td>1296599</td>\n",
       "      <td>5000</td>\n",
       "      <td>5000</td>\n",
       "      <td>4975.0</td>\n",
       "      <td>36 months</td>\n",
       "      <td>10.65%</td>\n",
       "      <td>162.87</td>\n",
       "      <td>B</td>\n",
       "      <td>B2</td>\n",
       "      <td>...</td>\n",
       "      <td>171.62</td>\n",
       "      <td>May-16</td>\n",
       "      <td>0.0</td>\n",
       "      <td>1</td>\n",
       "      <td>INDIVIDUAL</td>\n",
       "      <td>0</td>\n",
       "      <td>0.0</td>\n",
       "      <td>0</td>\n",
       "      <td>0.0</td>\n",
       "      <td>0.0</td>\n",
       "    </tr>\n",
       "    <tr>\n",
       "      <th>1</th>\n",
       "      <td>1077430</td>\n",
       "      <td>1314167</td>\n",
       "      <td>2500</td>\n",
       "      <td>2500</td>\n",
       "      <td>2500.0</td>\n",
       "      <td>60 months</td>\n",
       "      <td>15.27%</td>\n",
       "      <td>59.83</td>\n",
       "      <td>C</td>\n",
       "      <td>C4</td>\n",
       "      <td>...</td>\n",
       "      <td>119.66</td>\n",
       "      <td>Sep-13</td>\n",
       "      <td>0.0</td>\n",
       "      <td>1</td>\n",
       "      <td>INDIVIDUAL</td>\n",
       "      <td>0</td>\n",
       "      <td>0.0</td>\n",
       "      <td>0</td>\n",
       "      <td>0.0</td>\n",
       "      <td>0.0</td>\n",
       "    </tr>\n",
       "    <tr>\n",
       "      <th>2</th>\n",
       "      <td>1077175</td>\n",
       "      <td>1313524</td>\n",
       "      <td>2400</td>\n",
       "      <td>2400</td>\n",
       "      <td>2400.0</td>\n",
       "      <td>36 months</td>\n",
       "      <td>15.96%</td>\n",
       "      <td>84.33</td>\n",
       "      <td>C</td>\n",
       "      <td>C5</td>\n",
       "      <td>...</td>\n",
       "      <td>649.91</td>\n",
       "      <td>May-16</td>\n",
       "      <td>0.0</td>\n",
       "      <td>1</td>\n",
       "      <td>INDIVIDUAL</td>\n",
       "      <td>0</td>\n",
       "      <td>0.0</td>\n",
       "      <td>0</td>\n",
       "      <td>0.0</td>\n",
       "      <td>0.0</td>\n",
       "    </tr>\n",
       "    <tr>\n",
       "      <th>3</th>\n",
       "      <td>1076863</td>\n",
       "      <td>1277178</td>\n",
       "      <td>10000</td>\n",
       "      <td>10000</td>\n",
       "      <td>10000.0</td>\n",
       "      <td>36 months</td>\n",
       "      <td>13.49%</td>\n",
       "      <td>339.31</td>\n",
       "      <td>C</td>\n",
       "      <td>C1</td>\n",
       "      <td>...</td>\n",
       "      <td>357.48</td>\n",
       "      <td>Apr-16</td>\n",
       "      <td>0.0</td>\n",
       "      <td>1</td>\n",
       "      <td>INDIVIDUAL</td>\n",
       "      <td>0</td>\n",
       "      <td>0.0</td>\n",
       "      <td>0</td>\n",
       "      <td>0.0</td>\n",
       "      <td>0.0</td>\n",
       "    </tr>\n",
       "    <tr>\n",
       "      <th>4</th>\n",
       "      <td>1075358</td>\n",
       "      <td>1311748</td>\n",
       "      <td>3000</td>\n",
       "      <td>3000</td>\n",
       "      <td>3000.0</td>\n",
       "      <td>60 months</td>\n",
       "      <td>12.69%</td>\n",
       "      <td>67.79</td>\n",
       "      <td>B</td>\n",
       "      <td>B5</td>\n",
       "      <td>...</td>\n",
       "      <td>67.79</td>\n",
       "      <td>May-16</td>\n",
       "      <td>0.0</td>\n",
       "      <td>1</td>\n",
       "      <td>INDIVIDUAL</td>\n",
       "      <td>0</td>\n",
       "      <td>0.0</td>\n",
       "      <td>0</td>\n",
       "      <td>0.0</td>\n",
       "      <td>0.0</td>\n",
       "    </tr>\n",
       "    <tr>\n",
       "      <th>5</th>\n",
       "      <td>1075269</td>\n",
       "      <td>1311441</td>\n",
       "      <td>5000</td>\n",
       "      <td>5000</td>\n",
       "      <td>5000.0</td>\n",
       "      <td>36 months</td>\n",
       "      <td>7.90%</td>\n",
       "      <td>156.46</td>\n",
       "      <td>A</td>\n",
       "      <td>A4</td>\n",
       "      <td>...</td>\n",
       "      <td>161.03</td>\n",
       "      <td>Jan-16</td>\n",
       "      <td>0.0</td>\n",
       "      <td>1</td>\n",
       "      <td>INDIVIDUAL</td>\n",
       "      <td>0</td>\n",
       "      <td>0.0</td>\n",
       "      <td>0</td>\n",
       "      <td>0.0</td>\n",
       "      <td>0.0</td>\n",
       "    </tr>\n",
       "    <tr>\n",
       "      <th>6</th>\n",
       "      <td>1069639</td>\n",
       "      <td>1304742</td>\n",
       "      <td>7000</td>\n",
       "      <td>7000</td>\n",
       "      <td>7000.0</td>\n",
       "      <td>60 months</td>\n",
       "      <td>15.96%</td>\n",
       "      <td>170.08</td>\n",
       "      <td>C</td>\n",
       "      <td>C5</td>\n",
       "      <td>...</td>\n",
       "      <td>1313.76</td>\n",
       "      <td>May-16</td>\n",
       "      <td>0.0</td>\n",
       "      <td>1</td>\n",
       "      <td>INDIVIDUAL</td>\n",
       "      <td>0</td>\n",
       "      <td>0.0</td>\n",
       "      <td>0</td>\n",
       "      <td>0.0</td>\n",
       "      <td>0.0</td>\n",
       "    </tr>\n",
       "    <tr>\n",
       "      <th>7</th>\n",
       "      <td>1072053</td>\n",
       "      <td>1288686</td>\n",
       "      <td>3000</td>\n",
       "      <td>3000</td>\n",
       "      <td>3000.0</td>\n",
       "      <td>36 months</td>\n",
       "      <td>18.64%</td>\n",
       "      <td>109.43</td>\n",
       "      <td>E</td>\n",
       "      <td>E1</td>\n",
       "      <td>...</td>\n",
       "      <td>111.34</td>\n",
       "      <td>Dec-14</td>\n",
       "      <td>0.0</td>\n",
       "      <td>1</td>\n",
       "      <td>INDIVIDUAL</td>\n",
       "      <td>0</td>\n",
       "      <td>0.0</td>\n",
       "      <td>0</td>\n",
       "      <td>0.0</td>\n",
       "      <td>0.0</td>\n",
       "    </tr>\n",
       "    <tr>\n",
       "      <th>8</th>\n",
       "      <td>1071795</td>\n",
       "      <td>1306957</td>\n",
       "      <td>5600</td>\n",
       "      <td>5600</td>\n",
       "      <td>5600.0</td>\n",
       "      <td>60 months</td>\n",
       "      <td>21.28%</td>\n",
       "      <td>152.39</td>\n",
       "      <td>F</td>\n",
       "      <td>F2</td>\n",
       "      <td>...</td>\n",
       "      <td>152.39</td>\n",
       "      <td>Aug-12</td>\n",
       "      <td>0.0</td>\n",
       "      <td>1</td>\n",
       "      <td>INDIVIDUAL</td>\n",
       "      <td>0</td>\n",
       "      <td>0.0</td>\n",
       "      <td>0</td>\n",
       "      <td>0.0</td>\n",
       "      <td>0.0</td>\n",
       "    </tr>\n",
       "    <tr>\n",
       "      <th>9</th>\n",
       "      <td>1071570</td>\n",
       "      <td>1306721</td>\n",
       "      <td>5375</td>\n",
       "      <td>5375</td>\n",
       "      <td>5350.0</td>\n",
       "      <td>60 months</td>\n",
       "      <td>12.69%</td>\n",
       "      <td>121.45</td>\n",
       "      <td>B</td>\n",
       "      <td>B5</td>\n",
       "      <td>...</td>\n",
       "      <td>121.45</td>\n",
       "      <td>Mar-13</td>\n",
       "      <td>0.0</td>\n",
       "      <td>1</td>\n",
       "      <td>INDIVIDUAL</td>\n",
       "      <td>0</td>\n",
       "      <td>0.0</td>\n",
       "      <td>0</td>\n",
       "      <td>0.0</td>\n",
       "      <td>0.0</td>\n",
       "    </tr>\n",
       "    <tr>\n",
       "      <th>10</th>\n",
       "      <td>1070078</td>\n",
       "      <td>1305201</td>\n",
       "      <td>6500</td>\n",
       "      <td>6500</td>\n",
       "      <td>6500.0</td>\n",
       "      <td>60 months</td>\n",
       "      <td>14.65%</td>\n",
       "      <td>153.45</td>\n",
       "      <td>C</td>\n",
       "      <td>C3</td>\n",
       "      <td>...</td>\n",
       "      <td>1655.54</td>\n",
       "      <td>Dec-15</td>\n",
       "      <td>0.0</td>\n",
       "      <td>1</td>\n",
       "      <td>INDIVIDUAL</td>\n",
       "      <td>0</td>\n",
       "      <td>0.0</td>\n",
       "      <td>0</td>\n",
       "      <td>0.0</td>\n",
       "      <td>0.0</td>\n",
       "    </tr>\n",
       "    <tr>\n",
       "      <th>11</th>\n",
       "      <td>1069908</td>\n",
       "      <td>1305008</td>\n",
       "      <td>12000</td>\n",
       "      <td>12000</td>\n",
       "      <td>12000.0</td>\n",
       "      <td>36 months</td>\n",
       "      <td>12.69%</td>\n",
       "      <td>402.54</td>\n",
       "      <td>B</td>\n",
       "      <td>B5</td>\n",
       "      <td>...</td>\n",
       "      <td>6315.30</td>\n",
       "      <td>Aug-13</td>\n",
       "      <td>0.0</td>\n",
       "      <td>1</td>\n",
       "      <td>INDIVIDUAL</td>\n",
       "      <td>0</td>\n",
       "      <td>0.0</td>\n",
       "      <td>0</td>\n",
       "      <td>0.0</td>\n",
       "      <td>0.0</td>\n",
       "    </tr>\n",
       "    <tr>\n",
       "      <th>12</th>\n",
       "      <td>1064687</td>\n",
       "      <td>1298717</td>\n",
       "      <td>9000</td>\n",
       "      <td>9000</td>\n",
       "      <td>9000.0</td>\n",
       "      <td>36 months</td>\n",
       "      <td>13.49%</td>\n",
       "      <td>305.38</td>\n",
       "      <td>C</td>\n",
       "      <td>C1</td>\n",
       "      <td>...</td>\n",
       "      <td>305.38</td>\n",
       "      <td>Nov-12</td>\n",
       "      <td>0.0</td>\n",
       "      <td>1</td>\n",
       "      <td>INDIVIDUAL</td>\n",
       "      <td>0</td>\n",
       "      <td>0.0</td>\n",
       "      <td>0</td>\n",
       "      <td>0.0</td>\n",
       "      <td>0.0</td>\n",
       "    </tr>\n",
       "    <tr>\n",
       "      <th>13</th>\n",
       "      <td>1069866</td>\n",
       "      <td>1304956</td>\n",
       "      <td>3000</td>\n",
       "      <td>3000</td>\n",
       "      <td>3000.0</td>\n",
       "      <td>36 months</td>\n",
       "      <td>9.91%</td>\n",
       "      <td>96.68</td>\n",
       "      <td>B</td>\n",
       "      <td>B1</td>\n",
       "      <td>...</td>\n",
       "      <td>102.43</td>\n",
       "      <td>May-16</td>\n",
       "      <td>0.0</td>\n",
       "      <td>1</td>\n",
       "      <td>INDIVIDUAL</td>\n",
       "      <td>0</td>\n",
       "      <td>0.0</td>\n",
       "      <td>0</td>\n",
       "      <td>0.0</td>\n",
       "      <td>0.0</td>\n",
       "    </tr>\n",
       "    <tr>\n",
       "      <th>14</th>\n",
       "      <td>1069057</td>\n",
       "      <td>1303503</td>\n",
       "      <td>10000</td>\n",
       "      <td>10000</td>\n",
       "      <td>10000.0</td>\n",
       "      <td>36 months</td>\n",
       "      <td>10.65%</td>\n",
       "      <td>325.74</td>\n",
       "      <td>B</td>\n",
       "      <td>B2</td>\n",
       "      <td>...</td>\n",
       "      <td>325.74</td>\n",
       "      <td>Mar-14</td>\n",
       "      <td>0.0</td>\n",
       "      <td>1</td>\n",
       "      <td>INDIVIDUAL</td>\n",
       "      <td>0</td>\n",
       "      <td>0.0</td>\n",
       "      <td>0</td>\n",
       "      <td>0.0</td>\n",
       "      <td>0.0</td>\n",
       "    </tr>\n",
       "  </tbody>\n",
       "</table>\n",
       "<p>15 rows × 53 columns</p>\n",
       "</div>"
      ],
      "text/plain": [
       "         id  member_id  loan_amnt  funded_amnt  funded_amnt_inv        term  \\\n",
       "0   1077501    1296599       5000         5000           4975.0   36 months   \n",
       "1   1077430    1314167       2500         2500           2500.0   60 months   \n",
       "2   1077175    1313524       2400         2400           2400.0   36 months   \n",
       "3   1076863    1277178      10000        10000          10000.0   36 months   \n",
       "4   1075358    1311748       3000         3000           3000.0   60 months   \n",
       "5   1075269    1311441       5000         5000           5000.0   36 months   \n",
       "6   1069639    1304742       7000         7000           7000.0   60 months   \n",
       "7   1072053    1288686       3000         3000           3000.0   36 months   \n",
       "8   1071795    1306957       5600         5600           5600.0   60 months   \n",
       "9   1071570    1306721       5375         5375           5350.0   60 months   \n",
       "10  1070078    1305201       6500         6500           6500.0   60 months   \n",
       "11  1069908    1305008      12000        12000          12000.0   36 months   \n",
       "12  1064687    1298717       9000         9000           9000.0   36 months   \n",
       "13  1069866    1304956       3000         3000           3000.0   36 months   \n",
       "14  1069057    1303503      10000        10000          10000.0   36 months   \n",
       "\n",
       "   int_rate  installment grade sub_grade  ... last_pymnt_amnt  \\\n",
       "0    10.65%       162.87     B        B2  ...          171.62   \n",
       "1    15.27%        59.83     C        C4  ...          119.66   \n",
       "2    15.96%        84.33     C        C5  ...          649.91   \n",
       "3    13.49%       339.31     C        C1  ...          357.48   \n",
       "4    12.69%        67.79     B        B5  ...           67.79   \n",
       "5     7.90%       156.46     A        A4  ...          161.03   \n",
       "6    15.96%       170.08     C        C5  ...         1313.76   \n",
       "7    18.64%       109.43     E        E1  ...          111.34   \n",
       "8    21.28%       152.39     F        F2  ...          152.39   \n",
       "9    12.69%       121.45     B        B5  ...          121.45   \n",
       "10   14.65%       153.45     C        C3  ...         1655.54   \n",
       "11   12.69%       402.54     B        B5  ...         6315.30   \n",
       "12   13.49%       305.38     C        C1  ...          305.38   \n",
       "13    9.91%        96.68     B        B1  ...          102.43   \n",
       "14   10.65%       325.74     B        B2  ...          325.74   \n",
       "\n",
       "   last_credit_pull_d collections_12_mths_ex_med  policy_code  \\\n",
       "0              May-16                        0.0            1   \n",
       "1              Sep-13                        0.0            1   \n",
       "2              May-16                        0.0            1   \n",
       "3              Apr-16                        0.0            1   \n",
       "4              May-16                        0.0            1   \n",
       "5              Jan-16                        0.0            1   \n",
       "6              May-16                        0.0            1   \n",
       "7              Dec-14                        0.0            1   \n",
       "8              Aug-12                        0.0            1   \n",
       "9              Mar-13                        0.0            1   \n",
       "10             Dec-15                        0.0            1   \n",
       "11             Aug-13                        0.0            1   \n",
       "12             Nov-12                        0.0            1   \n",
       "13             May-16                        0.0            1   \n",
       "14             Mar-14                        0.0            1   \n",
       "\n",
       "   application_type acc_now_delinq chargeoff_within_12_mths delinq_amnt  \\\n",
       "0        INDIVIDUAL              0                      0.0           0   \n",
       "1        INDIVIDUAL              0                      0.0           0   \n",
       "2        INDIVIDUAL              0                      0.0           0   \n",
       "3        INDIVIDUAL              0                      0.0           0   \n",
       "4        INDIVIDUAL              0                      0.0           0   \n",
       "5        INDIVIDUAL              0                      0.0           0   \n",
       "6        INDIVIDUAL              0                      0.0           0   \n",
       "7        INDIVIDUAL              0                      0.0           0   \n",
       "8        INDIVIDUAL              0                      0.0           0   \n",
       "9        INDIVIDUAL              0                      0.0           0   \n",
       "10       INDIVIDUAL              0                      0.0           0   \n",
       "11       INDIVIDUAL              0                      0.0           0   \n",
       "12       INDIVIDUAL              0                      0.0           0   \n",
       "13       INDIVIDUAL              0                      0.0           0   \n",
       "14       INDIVIDUAL              0                      0.0           0   \n",
       "\n",
       "   pub_rec_bankruptcies tax_liens  \n",
       "0                   0.0       0.0  \n",
       "1                   0.0       0.0  \n",
       "2                   0.0       0.0  \n",
       "3                   0.0       0.0  \n",
       "4                   0.0       0.0  \n",
       "5                   0.0       0.0  \n",
       "6                   0.0       0.0  \n",
       "7                   0.0       0.0  \n",
       "8                   0.0       0.0  \n",
       "9                   0.0       0.0  \n",
       "10                  0.0       0.0  \n",
       "11                  0.0       0.0  \n",
       "12                  0.0       0.0  \n",
       "13                  0.0       0.0  \n",
       "14                  0.0       0.0  \n",
       "\n",
       "[15 rows x 53 columns]"
      ]
     },
     "execution_count": 16,
     "metadata": {},
     "output_type": "execute_result"
    }
   ],
   "source": [
    "loan.head(15)"
   ]
  },
  {
   "cell_type": "code",
   "execution_count": 17,
   "id": "48594464",
   "metadata": {},
   "outputs": [
    {
     "data": {
      "text/plain": [
       "id                               0\n",
       "member_id                        0\n",
       "loan_amnt                        0\n",
       "funded_amnt                      0\n",
       "funded_amnt_inv                  0\n",
       "term                             0\n",
       "int_rate                         0\n",
       "installment                      0\n",
       "grade                            0\n",
       "sub_grade                        0\n",
       "emp_title                     2459\n",
       "emp_length                    1075\n",
       "home_ownership                   0\n",
       "annual_inc                       0\n",
       "verification_status              0\n",
       "issue_d                          0\n",
       "loan_status                      0\n",
       "pymnt_plan                       0\n",
       "url                              0\n",
       "purpose                          0\n",
       "title                           11\n",
       "zip_code                         0\n",
       "addr_state                       0\n",
       "dti                              0\n",
       "delinq_2yrs                      0\n",
       "earliest_cr_line                 0\n",
       "inq_last_6mths                   0\n",
       "open_acc                         0\n",
       "pub_rec                          0\n",
       "revol_bal                        0\n",
       "revol_util                      50\n",
       "total_acc                        0\n",
       "initial_list_status              0\n",
       "out_prncp                        0\n",
       "out_prncp_inv                    0\n",
       "total_pymnt                      0\n",
       "total_pymnt_inv                  0\n",
       "total_rec_prncp                  0\n",
       "total_rec_int                    0\n",
       "total_rec_late_fee               0\n",
       "recoveries                       0\n",
       "collection_recovery_fee          0\n",
       "last_pymnt_d                    71\n",
       "last_pymnt_amnt                  0\n",
       "last_credit_pull_d               2\n",
       "collections_12_mths_ex_med      56\n",
       "policy_code                      0\n",
       "application_type                 0\n",
       "acc_now_delinq                   0\n",
       "chargeoff_within_12_mths        56\n",
       "delinq_amnt                      0\n",
       "pub_rec_bankruptcies           697\n",
       "tax_liens                       39\n",
       "dtype: int64"
      ]
     },
     "execution_count": 17,
     "metadata": {},
     "output_type": "execute_result"
    }
   ],
   "source": [
    "#check for null values\n",
    "loan.isnull().sum()"
   ]
  },
  {
   "cell_type": "code",
   "execution_count": 18,
   "id": "bae26ab3",
   "metadata": {},
   "outputs": [
    {
     "data": {
      "text/plain": [
       "emp_title                     6.19\n",
       "emp_length                    2.71\n",
       "title                         0.03\n",
       "revol_util                    0.13\n",
       "last_pymnt_d                  0.18\n",
       "last_credit_pull_d            0.01\n",
       "collections_12_mths_ex_med    0.14\n",
       "chargeoff_within_12_mths      0.14\n",
       "pub_rec_bankruptcies          1.75\n",
       "tax_liens                     0.10\n",
       "dtype: float64"
      ]
     },
     "execution_count": 18,
     "metadata": {},
     "output_type": "execute_result"
    }
   ],
   "source": [
    "loan_columns=round((loan.isnull().sum()/len(loan.id))*100,2)\n",
    "loan_columns[loan_columns>0]"
   ]
  },
  {
   "cell_type": "code",
   "execution_count": 19,
   "id": "80236954",
   "metadata": {},
   "outputs": [],
   "source": [
    "# compression_opts = dict(method='zip',\n",
    "#                         archive_name='out.csv')  \n",
    "# loan.to_csv('out.zip', index=False,\n",
    "#           compression=compression_opts) "
   ]
  },
  {
   "cell_type": "markdown",
   "id": "6164b090",
   "metadata": {},
   "source": [
    "#### Checking categorical columns"
   ]
  },
  {
   "cell_type": "code",
   "execution_count": 20,
   "id": "51d9bcce",
   "metadata": {},
   "outputs": [
    {
     "data": {
      "text/plain": [
       "10+ years    8879\n",
       "< 1 year     4583\n",
       "2 years      4388\n",
       "3 years      4095\n",
       "4 years      3436\n",
       "5 years      3282\n",
       "1 year       3240\n",
       "6 years      2229\n",
       "7 years      1773\n",
       "8 years      1479\n",
       "9 years      1258\n",
       "Name: emp_length, dtype: int64"
      ]
     },
     "execution_count": 20,
     "metadata": {},
     "output_type": "execute_result"
    }
   ],
   "source": [
    "loan.emp_length.value_counts()"
   ]
  },
  {
   "cell_type": "code",
   "execution_count": 21,
   "id": "50186bf5",
   "metadata": {},
   "outputs": [
    {
     "data": {
      "text/plain": [
       "Debt Consolidation                         2184\n",
       "Debt Consolidation Loan                    1729\n",
       "Personal Loan                               659\n",
       "Consolidation                               517\n",
       "debt consolidation                          505\n",
       "                                           ... \n",
       "PLEASE HELP ME                                1\n",
       "Winter '09                                    1\n",
       "Closing Sears credit card at 21 percent       1\n",
       "LOWERRATE                                     1\n",
       "extra improvements                            1\n",
       "Name: title, Length: 19615, dtype: int64"
      ]
     },
     "execution_count": 21,
     "metadata": {},
     "output_type": "execute_result"
    }
   ],
   "source": [
    "loan.title.value_counts()"
   ]
  },
  {
   "cell_type": "code",
   "execution_count": 22,
   "id": "7a081973",
   "metadata": {},
   "outputs": [
    {
     "data": {
      "text/plain": [
       "0.0    39661\n",
       "Name: collections_12_mths_ex_med, dtype: int64"
      ]
     },
     "execution_count": 22,
     "metadata": {},
     "output_type": "execute_result"
    }
   ],
   "source": [
    "loan.collections_12_mths_ex_med.value_counts()    "
   ]
  },
  {
   "cell_type": "code",
   "execution_count": 23,
   "id": "f758458b",
   "metadata": {},
   "outputs": [
    {
     "data": {
      "text/plain": [
       "0.0    39661\n",
       "Name: chargeoff_within_12_mths, dtype: int64"
      ]
     },
     "execution_count": 23,
     "metadata": {},
     "output_type": "execute_result"
    }
   ],
   "source": [
    "loan.chargeoff_within_12_mths.value_counts()"
   ]
  },
  {
   "cell_type": "code",
   "execution_count": 24,
   "id": "4c826ea0",
   "metadata": {},
   "outputs": [
    {
     "data": {
      "text/plain": [
       "0.0    37339\n",
       "1.0     1674\n",
       "2.0        7\n",
       "Name: pub_rec_bankruptcies, dtype: int64"
      ]
     },
     "execution_count": 24,
     "metadata": {},
     "output_type": "execute_result"
    }
   ],
   "source": [
    "loan.pub_rec_bankruptcies.value_counts()"
   ]
  },
  {
   "cell_type": "code",
   "execution_count": 25,
   "id": "1adca16a",
   "metadata": {},
   "outputs": [
    {
     "data": {
      "text/plain": [
       "0.0    39678\n",
       "Name: tax_liens, dtype: int64"
      ]
     },
     "execution_count": 25,
     "metadata": {},
     "output_type": "execute_result"
    }
   ],
   "source": [
    "loan.tax_liens.value_counts()"
   ]
  },
  {
   "cell_type": "markdown",
   "id": "9e5a145c",
   "metadata": {},
   "source": [
    "We can drop collections_12_mths_ex_med,chargeoff_within_12_mths,tax_liens since majority of its values are 0"
   ]
  },
  {
   "cell_type": "code",
   "execution_count": 26,
   "id": "0b38bff6",
   "metadata": {},
   "outputs": [],
   "source": [
    "loan=loan.drop('tax_liens',axis=1)\n",
    "loan=loan.drop('chargeoff_within_12_mths',axis=1)\n",
    "loan=loan.drop('collections_12_mths_ex_med',axis=1)"
   ]
  },
  {
   "cell_type": "markdown",
   "id": "df4c533b",
   "metadata": {},
   "source": [
    "dropping the rows with null vaues of pub_rec_bankruptcies  "
   ]
  },
  {
   "cell_type": "code",
   "execution_count": 27,
   "id": "492f5049",
   "metadata": {},
   "outputs": [],
   "source": [
    "loan=loan[~np.isnan(loan['pub_rec_bankruptcies'])]"
   ]
  },
  {
   "cell_type": "markdown",
   "id": "0ea62eb1",
   "metadata": {},
   "source": [
    "Removing the rows with null values for emp_title which denotes The job title supplied by the Borrower when applying for the loan,emp_length which denotes employement length in years,title which denotes The job title supplied by the Borrower when applying for the loan,revol_util which denotes the amount of credit the borrower is using relative to all available revolving credit,last_pymnt_d  which dneotes last month of payment recived"
   ]
  },
  {
   "cell_type": "code",
   "execution_count": 28,
   "id": "0544ef45",
   "metadata": {},
   "outputs": [],
   "source": [
    "loan=loan[~loan['emp_title'].isnull()]\n",
    "loan=loan[~loan['emp_length'].isnull()]\n",
    "loan=loan[~loan['title'].isnull()]\n",
    "loan=loan[~loan['revol_util'].isnull()]\n",
    "loan=loan[~loan['last_pymnt_d'].isnull()]"
   ]
  },
  {
   "cell_type": "markdown",
   "id": "68d47297",
   "metadata": {},
   "source": [
    "check for null values"
   ]
  },
  {
   "cell_type": "code",
   "execution_count": 29,
   "id": "221100d2",
   "metadata": {},
   "outputs": [
    {
     "data": {
      "text/plain": [
       "Series([], dtype: float64)"
      ]
     },
     "execution_count": 29,
     "metadata": {},
     "output_type": "execute_result"
    }
   ],
   "source": [
    "loan_columns=round((loan.isnull().sum()/len(loan.id))*100,2)\n",
    "loan_columns[loan_columns>0]"
   ]
  },
  {
   "cell_type": "code",
   "execution_count": 30,
   "id": "0240c4e0",
   "metadata": {},
   "outputs": [
    {
     "data": {
      "text/plain": [
       "(36433, 50)"
      ]
     },
     "execution_count": 30,
     "metadata": {},
     "output_type": "execute_result"
    }
   ],
   "source": [
    "loan.shape"
   ]
  },
  {
   "cell_type": "code",
   "execution_count": 31,
   "id": "80af354d",
   "metadata": {},
   "outputs": [
    {
     "data": {
      "text/plain": [
       "id                           int64\n",
       "member_id                    int64\n",
       "loan_amnt                    int64\n",
       "funded_amnt                  int64\n",
       "funded_amnt_inv            float64\n",
       "term                        object\n",
       "int_rate                    object\n",
       "installment                float64\n",
       "grade                       object\n",
       "sub_grade                   object\n",
       "emp_title                   object\n",
       "emp_length                  object\n",
       "home_ownership              object\n",
       "annual_inc                 float64\n",
       "verification_status         object\n",
       "issue_d                     object\n",
       "loan_status                 object\n",
       "pymnt_plan                  object\n",
       "url                         object\n",
       "purpose                     object\n",
       "title                       object\n",
       "zip_code                    object\n",
       "addr_state                  object\n",
       "dti                        float64\n",
       "delinq_2yrs                  int64\n",
       "earliest_cr_line            object\n",
       "inq_last_6mths               int64\n",
       "open_acc                     int64\n",
       "pub_rec                      int64\n",
       "revol_bal                    int64\n",
       "revol_util                  object\n",
       "total_acc                    int64\n",
       "initial_list_status         object\n",
       "out_prncp                  float64\n",
       "out_prncp_inv              float64\n",
       "total_pymnt                float64\n",
       "total_pymnt_inv            float64\n",
       "total_rec_prncp            float64\n",
       "total_rec_int              float64\n",
       "total_rec_late_fee         float64\n",
       "recoveries                 float64\n",
       "collection_recovery_fee    float64\n",
       "last_pymnt_d                object\n",
       "last_pymnt_amnt            float64\n",
       "last_credit_pull_d          object\n",
       "policy_code                  int64\n",
       "application_type            object\n",
       "acc_now_delinq               int64\n",
       "delinq_amnt                  int64\n",
       "pub_rec_bankruptcies       float64\n",
       "dtype: object"
      ]
     },
     "execution_count": 31,
     "metadata": {},
     "output_type": "execute_result"
    }
   ],
   "source": [
    "loan.dtypes"
   ]
  },
  {
   "cell_type": "code",
   "execution_count": 32,
   "id": "e7921ac1",
   "metadata": {},
   "outputs": [
    {
     "data": {
      "text/plain": [
       "acc_now_delinq                 1\n",
       "application_type               1\n",
       "policy_code                    1\n",
       "initial_list_status            1\n",
       "delinq_amnt                    1\n",
       "pymnt_plan                     1\n",
       "term                           2\n",
       "pub_rec_bankruptcies           3\n",
       "loan_status                    3\n",
       "verification_status            3\n",
       "home_ownership                 4\n",
       "pub_rec                        5\n",
       "grade                          7\n",
       "inq_last_6mths                 9\n",
       "delinq_2yrs                   11\n",
       "emp_length                    11\n",
       "purpose                       14\n",
       "sub_grade                     35\n",
       "open_acc                      38\n",
       "addr_state                    49\n",
       "issue_d                       52\n",
       "total_acc                     79\n",
       "last_credit_pull_d            96\n",
       "last_pymnt_d                  97\n",
       "int_rate                     334\n",
       "earliest_cr_line             510\n",
       "zip_code                     806\n",
       "loan_amnt                    863\n",
       "funded_amnt                 1024\n",
       "out_prncp                   1064\n",
       "out_prncp_inv               1065\n",
       "revol_util                  1082\n",
       "total_rec_late_fee          1194\n",
       "collection_recovery_fee     2386\n",
       "dti                         2857\n",
       "recoveries                  3585\n",
       "annual_inc                  4924\n",
       "total_rec_prncp             7254\n",
       "funded_amnt_inv             7474\n",
       "installment                14367\n",
       "title                      17954\n",
       "revol_bal                  20790\n",
       "emp_title                  28207\n",
       "last_pymnt_amnt            32467\n",
       "total_rec_int              32523\n",
       "total_pymnt_inv            34524\n",
       "total_pymnt                34802\n",
       "url                        36433\n",
       "member_id                  36433\n",
       "id                         36433\n",
       "dtype: int64"
      ]
     },
     "execution_count": 32,
     "metadata": {},
     "output_type": "execute_result"
    }
   ],
   "source": [
    "loan.nunique().sort_values()"
   ]
  },
  {
   "cell_type": "markdown",
   "id": "06f88d01",
   "metadata": {},
   "source": [
    "#### Dropping the columns which doesn't contribute to the analysis"
   ]
  },
  {
   "cell_type": "markdown",
   "id": "8886d775",
   "metadata": {},
   "source": [
    "id,member_id,url has all unique values so we can't infer anything from this columns\n",
    "paymnt_plan,acc_now_deiling,policy_code,intial_list_status,deiling_amnt,application_type have all same values so that can also be droped"
   ]
  },
  {
   "cell_type": "code",
   "execution_count": 33,
   "id": "c4a64b28",
   "metadata": {},
   "outputs": [],
   "source": [
    "#loan=loan.drop('id',axis=1)\n",
    "loan=loan.drop('member_id',axis=1)\n",
    "loan=loan.drop('url',axis=1)\n",
    "loan=loan.drop('pymnt_plan',axis=1)\n"
   ]
  },
  {
   "cell_type": "code",
   "execution_count": 34,
   "id": "703141b8",
   "metadata": {},
   "outputs": [],
   "source": [
    "loan=loan.drop('acc_now_delinq',axis=1)\n",
    "loan=loan.drop('policy_code',axis=1)\n",
    "loan=loan.drop('initial_list_status',axis=1)\n",
    "loan=loan.drop('delinq_amnt',axis=1)\n",
    "loan=loan.drop('application_type',axis=1)"
   ]
  },
  {
   "cell_type": "code",
   "execution_count": 35,
   "id": "ddbd3fe4",
   "metadata": {},
   "outputs": [
    {
     "data": {
      "text/plain": [
       "(36433, 42)"
      ]
     },
     "execution_count": 35,
     "metadata": {},
     "output_type": "execute_result"
    }
   ],
   "source": [
    "loan.shape"
   ]
  },
  {
   "cell_type": "code",
   "execution_count": 36,
   "id": "addb6f19",
   "metadata": {},
   "outputs": [
    {
     "data": {
      "text/html": [
       "<div>\n",
       "<style scoped>\n",
       "    .dataframe tbody tr th:only-of-type {\n",
       "        vertical-align: middle;\n",
       "    }\n",
       "\n",
       "    .dataframe tbody tr th {\n",
       "        vertical-align: top;\n",
       "    }\n",
       "\n",
       "    .dataframe thead th {\n",
       "        text-align: right;\n",
       "    }\n",
       "</style>\n",
       "<table border=\"1\" class=\"dataframe\">\n",
       "  <thead>\n",
       "    <tr style=\"text-align: right;\">\n",
       "      <th></th>\n",
       "      <th>loan_amnt</th>\n",
       "      <th>funded_amnt</th>\n",
       "      <th>funded_amnt_inv</th>\n",
       "      <th>total_pymnt_inv</th>\n",
       "      <th>total_pymnt</th>\n",
       "      <th>out_prncp</th>\n",
       "      <th>out_prncp_inv</th>\n",
       "    </tr>\n",
       "  </thead>\n",
       "  <tbody>\n",
       "    <tr>\n",
       "      <th>1</th>\n",
       "      <td>2500</td>\n",
       "      <td>2500</td>\n",
       "      <td>2500.00000</td>\n",
       "      <td>1008.71</td>\n",
       "      <td>1008.710000</td>\n",
       "      <td>0.00</td>\n",
       "      <td>0.00</td>\n",
       "    </tr>\n",
       "    <tr>\n",
       "      <th>3</th>\n",
       "      <td>10000</td>\n",
       "      <td>10000</td>\n",
       "      <td>10000.00000</td>\n",
       "      <td>12231.89</td>\n",
       "      <td>12231.890000</td>\n",
       "      <td>0.00</td>\n",
       "      <td>0.00</td>\n",
       "    </tr>\n",
       "    <tr>\n",
       "      <th>4</th>\n",
       "      <td>3000</td>\n",
       "      <td>3000</td>\n",
       "      <td>3000.00000</td>\n",
       "      <td>3513.33</td>\n",
       "      <td>3513.330000</td>\n",
       "      <td>524.06</td>\n",
       "      <td>524.06</td>\n",
       "    </tr>\n",
       "    <tr>\n",
       "      <th>5</th>\n",
       "      <td>5000</td>\n",
       "      <td>5000</td>\n",
       "      <td>5000.00000</td>\n",
       "      <td>5632.21</td>\n",
       "      <td>5632.210000</td>\n",
       "      <td>0.00</td>\n",
       "      <td>0.00</td>\n",
       "    </tr>\n",
       "    <tr>\n",
       "      <th>6</th>\n",
       "      <td>7000</td>\n",
       "      <td>7000</td>\n",
       "      <td>7000.00000</td>\n",
       "      <td>10110.84</td>\n",
       "      <td>10110.840000</td>\n",
       "      <td>0.00</td>\n",
       "      <td>0.00</td>\n",
       "    </tr>\n",
       "    <tr>\n",
       "      <th>7</th>\n",
       "      <td>3000</td>\n",
       "      <td>3000</td>\n",
       "      <td>3000.00000</td>\n",
       "      <td>3939.14</td>\n",
       "      <td>3939.135294</td>\n",
       "      <td>0.00</td>\n",
       "      <td>0.00</td>\n",
       "    </tr>\n",
       "    <tr>\n",
       "      <th>9</th>\n",
       "      <td>5375</td>\n",
       "      <td>5375</td>\n",
       "      <td>5350.00000</td>\n",
       "      <td>1469.34</td>\n",
       "      <td>1476.190000</td>\n",
       "      <td>0.00</td>\n",
       "      <td>0.00</td>\n",
       "    </tr>\n",
       "    <tr>\n",
       "      <th>10</th>\n",
       "      <td>6500</td>\n",
       "      <td>6500</td>\n",
       "      <td>6500.00000</td>\n",
       "      <td>7678.02</td>\n",
       "      <td>7678.017673</td>\n",
       "      <td>0.00</td>\n",
       "      <td>0.00</td>\n",
       "    </tr>\n",
       "    <tr>\n",
       "      <th>11</th>\n",
       "      <td>12000</td>\n",
       "      <td>12000</td>\n",
       "      <td>12000.00000</td>\n",
       "      <td>13947.99</td>\n",
       "      <td>13947.989160</td>\n",
       "      <td>0.00</td>\n",
       "      <td>0.00</td>\n",
       "    </tr>\n",
       "    <tr>\n",
       "      <th>12</th>\n",
       "      <td>9000</td>\n",
       "      <td>9000</td>\n",
       "      <td>9000.00000</td>\n",
       "      <td>2270.70</td>\n",
       "      <td>2270.700000</td>\n",
       "      <td>0.00</td>\n",
       "      <td>0.00</td>\n",
       "    </tr>\n",
       "    <tr>\n",
       "      <th>13</th>\n",
       "      <td>3000</td>\n",
       "      <td>3000</td>\n",
       "      <td>3000.00000</td>\n",
       "      <td>3480.27</td>\n",
       "      <td>3480.269999</td>\n",
       "      <td>0.00</td>\n",
       "      <td>0.00</td>\n",
       "    </tr>\n",
       "    <tr>\n",
       "      <th>14</th>\n",
       "      <td>10000</td>\n",
       "      <td>10000</td>\n",
       "      <td>10000.00000</td>\n",
       "      <td>7471.99</td>\n",
       "      <td>7471.990000</td>\n",
       "      <td>0.00</td>\n",
       "      <td>0.00</td>\n",
       "    </tr>\n",
       "    <tr>\n",
       "      <th>15</th>\n",
       "      <td>1000</td>\n",
       "      <td>1000</td>\n",
       "      <td>1000.00000</td>\n",
       "      <td>1270.72</td>\n",
       "      <td>1270.716942</td>\n",
       "      <td>0.00</td>\n",
       "      <td>0.00</td>\n",
       "    </tr>\n",
       "    <tr>\n",
       "      <th>16</th>\n",
       "      <td>10000</td>\n",
       "      <td>10000</td>\n",
       "      <td>10000.00000</td>\n",
       "      <td>12527.15</td>\n",
       "      <td>12527.150000</td>\n",
       "      <td>0.00</td>\n",
       "      <td>0.00</td>\n",
       "    </tr>\n",
       "    <tr>\n",
       "      <th>17</th>\n",
       "      <td>3600</td>\n",
       "      <td>3600</td>\n",
       "      <td>3600.00000</td>\n",
       "      <td>3785.27</td>\n",
       "      <td>3785.271965</td>\n",
       "      <td>0.00</td>\n",
       "      <td>0.00</td>\n",
       "    </tr>\n",
       "    <tr>\n",
       "      <th>18</th>\n",
       "      <td>6000</td>\n",
       "      <td>6000</td>\n",
       "      <td>6000.00000</td>\n",
       "      <td>7167.07</td>\n",
       "      <td>7167.072893</td>\n",
       "      <td>0.00</td>\n",
       "      <td>0.00</td>\n",
       "    </tr>\n",
       "    <tr>\n",
       "      <th>19</th>\n",
       "      <td>9200</td>\n",
       "      <td>9200</td>\n",
       "      <td>9200.00000</td>\n",
       "      <td>9460.00</td>\n",
       "      <td>9460.000848</td>\n",
       "      <td>0.00</td>\n",
       "      <td>0.00</td>\n",
       "    </tr>\n",
       "    <tr>\n",
       "      <th>20</th>\n",
       "      <td>20250</td>\n",
       "      <td>20250</td>\n",
       "      <td>19142.16108</td>\n",
       "      <td>25433.60</td>\n",
       "      <td>27679.050000</td>\n",
       "      <td>0.00</td>\n",
       "      <td>0.00</td>\n",
       "    </tr>\n",
       "    <tr>\n",
       "      <th>21</th>\n",
       "      <td>21000</td>\n",
       "      <td>21000</td>\n",
       "      <td>21000.00000</td>\n",
       "      <td>14025.40</td>\n",
       "      <td>14025.400000</td>\n",
       "      <td>0.00</td>\n",
       "      <td>0.00</td>\n",
       "    </tr>\n",
       "    <tr>\n",
       "      <th>22</th>\n",
       "      <td>10000</td>\n",
       "      <td>10000</td>\n",
       "      <td>10000.00000</td>\n",
       "      <td>11907.35</td>\n",
       "      <td>11907.350000</td>\n",
       "      <td>0.00</td>\n",
       "      <td>0.00</td>\n",
       "    </tr>\n",
       "    <tr>\n",
       "      <th>23</th>\n",
       "      <td>10000</td>\n",
       "      <td>10000</td>\n",
       "      <td>10000.00000</td>\n",
       "      <td>11540.89</td>\n",
       "      <td>11540.891980</td>\n",
       "      <td>0.00</td>\n",
       "      <td>0.00</td>\n",
       "    </tr>\n",
       "    <tr>\n",
       "      <th>24</th>\n",
       "      <td>6000</td>\n",
       "      <td>6000</td>\n",
       "      <td>6000.00000</td>\n",
       "      <td>2050.14</td>\n",
       "      <td>2050.140000</td>\n",
       "      <td>0.00</td>\n",
       "      <td>0.00</td>\n",
       "    </tr>\n",
       "    <tr>\n",
       "      <th>25</th>\n",
       "      <td>15000</td>\n",
       "      <td>15000</td>\n",
       "      <td>15000.00000</td>\n",
       "      <td>15824.00</td>\n",
       "      <td>15823.999050</td>\n",
       "      <td>0.00</td>\n",
       "      <td>0.00</td>\n",
       "    </tr>\n",
       "    <tr>\n",
       "      <th>27</th>\n",
       "      <td>5000</td>\n",
       "      <td>5000</td>\n",
       "      <td>5000.00000</td>\n",
       "      <td>1609.12</td>\n",
       "      <td>1609.120000</td>\n",
       "      <td>0.00</td>\n",
       "      <td>0.00</td>\n",
       "    </tr>\n",
       "    <tr>\n",
       "      <th>28</th>\n",
       "      <td>4000</td>\n",
       "      <td>4000</td>\n",
       "      <td>4000.00000</td>\n",
       "      <td>4486.29</td>\n",
       "      <td>4486.293519</td>\n",
       "      <td>0.00</td>\n",
       "      <td>0.00</td>\n",
       "    </tr>\n",
       "    <tr>\n",
       "      <th>29</th>\n",
       "      <td>8500</td>\n",
       "      <td>8500</td>\n",
       "      <td>8500.00000</td>\n",
       "      <td>10126.09</td>\n",
       "      <td>10126.088440</td>\n",
       "      <td>0.00</td>\n",
       "      <td>0.00</td>\n",
       "    </tr>\n",
       "    <tr>\n",
       "      <th>31</th>\n",
       "      <td>31825</td>\n",
       "      <td>31825</td>\n",
       "      <td>31825.00000</td>\n",
       "      <td>34886.91</td>\n",
       "      <td>34886.913780</td>\n",
       "      <td>0.00</td>\n",
       "      <td>0.00</td>\n",
       "    </tr>\n",
       "    <tr>\n",
       "      <th>32</th>\n",
       "      <td>10000</td>\n",
       "      <td>10000</td>\n",
       "      <td>9975.00000</td>\n",
       "      <td>12562.85</td>\n",
       "      <td>12594.240000</td>\n",
       "      <td>1849.10</td>\n",
       "      <td>1844.43</td>\n",
       "    </tr>\n",
       "    <tr>\n",
       "      <th>33</th>\n",
       "      <td>5000</td>\n",
       "      <td>5000</td>\n",
       "      <td>5000.00000</td>\n",
       "      <td>5715.56</td>\n",
       "      <td>5715.560000</td>\n",
       "      <td>0.00</td>\n",
       "      <td>0.00</td>\n",
       "    </tr>\n",
       "    <tr>\n",
       "      <th>34</th>\n",
       "      <td>7000</td>\n",
       "      <td>7000</td>\n",
       "      <td>7000.00000</td>\n",
       "      <td>8854.51</td>\n",
       "      <td>8854.510004</td>\n",
       "      <td>0.00</td>\n",
       "      <td>0.00</td>\n",
       "    </tr>\n",
       "  </tbody>\n",
       "</table>\n",
       "</div>"
      ],
      "text/plain": [
       "    loan_amnt  funded_amnt  funded_amnt_inv  total_pymnt_inv   total_pymnt  \\\n",
       "1        2500         2500       2500.00000          1008.71   1008.710000   \n",
       "3       10000        10000      10000.00000         12231.89  12231.890000   \n",
       "4        3000         3000       3000.00000          3513.33   3513.330000   \n",
       "5        5000         5000       5000.00000          5632.21   5632.210000   \n",
       "6        7000         7000       7000.00000         10110.84  10110.840000   \n",
       "7        3000         3000       3000.00000          3939.14   3939.135294   \n",
       "9        5375         5375       5350.00000          1469.34   1476.190000   \n",
       "10       6500         6500       6500.00000          7678.02   7678.017673   \n",
       "11      12000        12000      12000.00000         13947.99  13947.989160   \n",
       "12       9000         9000       9000.00000          2270.70   2270.700000   \n",
       "13       3000         3000       3000.00000          3480.27   3480.269999   \n",
       "14      10000        10000      10000.00000          7471.99   7471.990000   \n",
       "15       1000         1000       1000.00000          1270.72   1270.716942   \n",
       "16      10000        10000      10000.00000         12527.15  12527.150000   \n",
       "17       3600         3600       3600.00000          3785.27   3785.271965   \n",
       "18       6000         6000       6000.00000          7167.07   7167.072893   \n",
       "19       9200         9200       9200.00000          9460.00   9460.000848   \n",
       "20      20250        20250      19142.16108         25433.60  27679.050000   \n",
       "21      21000        21000      21000.00000         14025.40  14025.400000   \n",
       "22      10000        10000      10000.00000         11907.35  11907.350000   \n",
       "23      10000        10000      10000.00000         11540.89  11540.891980   \n",
       "24       6000         6000       6000.00000          2050.14   2050.140000   \n",
       "25      15000        15000      15000.00000         15824.00  15823.999050   \n",
       "27       5000         5000       5000.00000          1609.12   1609.120000   \n",
       "28       4000         4000       4000.00000          4486.29   4486.293519   \n",
       "29       8500         8500       8500.00000         10126.09  10126.088440   \n",
       "31      31825        31825      31825.00000         34886.91  34886.913780   \n",
       "32      10000        10000       9975.00000         12562.85  12594.240000   \n",
       "33       5000         5000       5000.00000          5715.56   5715.560000   \n",
       "34       7000         7000       7000.00000          8854.51   8854.510004   \n",
       "\n",
       "    out_prncp  out_prncp_inv  \n",
       "1        0.00           0.00  \n",
       "3        0.00           0.00  \n",
       "4      524.06         524.06  \n",
       "5        0.00           0.00  \n",
       "6        0.00           0.00  \n",
       "7        0.00           0.00  \n",
       "9        0.00           0.00  \n",
       "10       0.00           0.00  \n",
       "11       0.00           0.00  \n",
       "12       0.00           0.00  \n",
       "13       0.00           0.00  \n",
       "14       0.00           0.00  \n",
       "15       0.00           0.00  \n",
       "16       0.00           0.00  \n",
       "17       0.00           0.00  \n",
       "18       0.00           0.00  \n",
       "19       0.00           0.00  \n",
       "20       0.00           0.00  \n",
       "21       0.00           0.00  \n",
       "22       0.00           0.00  \n",
       "23       0.00           0.00  \n",
       "24       0.00           0.00  \n",
       "25       0.00           0.00  \n",
       "27       0.00           0.00  \n",
       "28       0.00           0.00  \n",
       "29       0.00           0.00  \n",
       "31       0.00           0.00  \n",
       "32    1849.10        1844.43  \n",
       "33       0.00           0.00  \n",
       "34       0.00           0.00  "
      ]
     },
     "execution_count": 36,
     "metadata": {},
     "output_type": "execute_result"
    }
   ],
   "source": [
    "#analysing the amount columns\n",
    "loan[['loan_amnt','funded_amnt','funded_amnt_inv','total_pymnt_inv','total_pymnt','out_prncp','out_prncp_inv']].head(30)"
   ]
  },
  {
   "cell_type": "code",
   "execution_count": 37,
   "id": "207a997d",
   "metadata": {},
   "outputs": [
    {
     "data": {
      "text/html": [
       "<div>\n",
       "<style scoped>\n",
       "    .dataframe tbody tr th:only-of-type {\n",
       "        vertical-align: middle;\n",
       "    }\n",
       "\n",
       "    .dataframe tbody tr th {\n",
       "        vertical-align: top;\n",
       "    }\n",
       "\n",
       "    .dataframe thead th {\n",
       "        text-align: right;\n",
       "    }\n",
       "</style>\n",
       "<table border=\"1\" class=\"dataframe\">\n",
       "  <thead>\n",
       "    <tr style=\"text-align: right;\">\n",
       "      <th></th>\n",
       "      <th>loan_amnt</th>\n",
       "      <th>funded_amnt</th>\n",
       "      <th>funded_amnt_inv</th>\n",
       "      <th>total_pymnt_inv</th>\n",
       "      <th>total_pymnt</th>\n",
       "      <th>out_prncp</th>\n",
       "      <th>out_prncp_inv</th>\n",
       "    </tr>\n",
       "  </thead>\n",
       "  <tbody>\n",
       "    <tr>\n",
       "      <th>38995</th>\n",
       "      <td>4000</td>\n",
       "      <td>4000</td>\n",
       "      <td>3000.000000</td>\n",
       "      <td>3287.98</td>\n",
       "      <td>4383.947297</td>\n",
       "      <td>0.0</td>\n",
       "      <td>0.0</td>\n",
       "    </tr>\n",
       "    <tr>\n",
       "      <th>38996</th>\n",
       "      <td>8000</td>\n",
       "      <td>8000</td>\n",
       "      <td>6525.000000</td>\n",
       "      <td>7377.70</td>\n",
       "      <td>9045.347408</td>\n",
       "      <td>0.0</td>\n",
       "      <td>0.0</td>\n",
       "    </tr>\n",
       "    <tr>\n",
       "      <th>38997</th>\n",
       "      <td>12000</td>\n",
       "      <td>12000</td>\n",
       "      <td>8425.000000</td>\n",
       "      <td>8837.09</td>\n",
       "      <td>12586.961160</td>\n",
       "      <td>0.0</td>\n",
       "      <td>0.0</td>\n",
       "    </tr>\n",
       "    <tr>\n",
       "      <th>38998</th>\n",
       "      <td>7500</td>\n",
       "      <td>7500</td>\n",
       "      <td>5387.500000</td>\n",
       "      <td>6395.15</td>\n",
       "      <td>8964.004915</td>\n",
       "      <td>0.0</td>\n",
       "      <td>0.0</td>\n",
       "    </tr>\n",
       "    <tr>\n",
       "      <th>38999</th>\n",
       "      <td>25000</td>\n",
       "      <td>25000</td>\n",
       "      <td>8933.600000</td>\n",
       "      <td>9975.25</td>\n",
       "      <td>28900.635680</td>\n",
       "      <td>0.0</td>\n",
       "      <td>0.0</td>\n",
       "    </tr>\n",
       "    <tr>\n",
       "      <th>39000</th>\n",
       "      <td>15000</td>\n",
       "      <td>15000</td>\n",
       "      <td>9019.298386</td>\n",
       "      <td>10261.03</td>\n",
       "      <td>17332.240720</td>\n",
       "      <td>0.0</td>\n",
       "      <td>0.0</td>\n",
       "    </tr>\n",
       "    <tr>\n",
       "      <th>39001</th>\n",
       "      <td>20000</td>\n",
       "      <td>20000</td>\n",
       "      <td>4031.290514</td>\n",
       "      <td>1369.23</td>\n",
       "      <td>6767.460000</td>\n",
       "      <td>0.0</td>\n",
       "      <td>0.0</td>\n",
       "    </tr>\n",
       "    <tr>\n",
       "      <th>39002</th>\n",
       "      <td>11000</td>\n",
       "      <td>11000</td>\n",
       "      <td>9375.000000</td>\n",
       "      <td>11191.18</td>\n",
       "      <td>13130.978620</td>\n",
       "      <td>0.0</td>\n",
       "      <td>0.0</td>\n",
       "    </tr>\n",
       "    <tr>\n",
       "      <th>39003</th>\n",
       "      <td>4000</td>\n",
       "      <td>4000</td>\n",
       "      <td>3432.380000</td>\n",
       "      <td>3991.54</td>\n",
       "      <td>4672.840531</td>\n",
       "      <td>0.0</td>\n",
       "      <td>0.0</td>\n",
       "    </tr>\n",
       "    <tr>\n",
       "      <th>39013</th>\n",
       "      <td>9500</td>\n",
       "      <td>9500</td>\n",
       "      <td>6350.000000</td>\n",
       "      <td>7277.99</td>\n",
       "      <td>10888.335650</td>\n",
       "      <td>0.0</td>\n",
       "      <td>0.0</td>\n",
       "    </tr>\n",
       "    <tr>\n",
       "      <th>39052</th>\n",
       "      <td>12000</td>\n",
       "      <td>12000</td>\n",
       "      <td>3738.488872</td>\n",
       "      <td>4491.00</td>\n",
       "      <td>14605.768870</td>\n",
       "      <td>0.0</td>\n",
       "      <td>0.0</td>\n",
       "    </tr>\n",
       "    <tr>\n",
       "      <th>39084</th>\n",
       "      <td>9000</td>\n",
       "      <td>9000</td>\n",
       "      <td>3110.870000</td>\n",
       "      <td>3615.48</td>\n",
       "      <td>10756.800000</td>\n",
       "      <td>0.0</td>\n",
       "      <td>0.0</td>\n",
       "    </tr>\n",
       "    <tr>\n",
       "      <th>39138</th>\n",
       "      <td>5000</td>\n",
       "      <td>5000</td>\n",
       "      <td>1791.280000</td>\n",
       "      <td>2015.63</td>\n",
       "      <td>5868.294364</td>\n",
       "      <td>0.0</td>\n",
       "      <td>0.0</td>\n",
       "    </tr>\n",
       "    <tr>\n",
       "      <th>39216</th>\n",
       "      <td>15075</td>\n",
       "      <td>15075</td>\n",
       "      <td>3475.000000</td>\n",
       "      <td>4210.30</td>\n",
       "      <td>18264.780700</td>\n",
       "      <td>0.0</td>\n",
       "      <td>0.0</td>\n",
       "    </tr>\n",
       "    <tr>\n",
       "      <th>39220</th>\n",
       "      <td>10800</td>\n",
       "      <td>10800</td>\n",
       "      <td>2900.000000</td>\n",
       "      <td>3258.64</td>\n",
       "      <td>12135.635730</td>\n",
       "      <td>0.0</td>\n",
       "      <td>0.0</td>\n",
       "    </tr>\n",
       "    <tr>\n",
       "      <th>39251</th>\n",
       "      <td>10100</td>\n",
       "      <td>10100</td>\n",
       "      <td>6425.004533</td>\n",
       "      <td>922.67</td>\n",
       "      <td>1452.190000</td>\n",
       "      <td>0.0</td>\n",
       "      <td>0.0</td>\n",
       "    </tr>\n",
       "    <tr>\n",
       "      <th>39288</th>\n",
       "      <td>1300</td>\n",
       "      <td>1300</td>\n",
       "      <td>850.000000</td>\n",
       "      <td>1004.04</td>\n",
       "      <td>1535.588749</td>\n",
       "      <td>0.0</td>\n",
       "      <td>0.0</td>\n",
       "    </tr>\n",
       "    <tr>\n",
       "      <th>39291</th>\n",
       "      <td>15450</td>\n",
       "      <td>15450</td>\n",
       "      <td>5650.000000</td>\n",
       "      <td>5020.07</td>\n",
       "      <td>13741.250000</td>\n",
       "      <td>0.0</td>\n",
       "      <td>0.0</td>\n",
       "    </tr>\n",
       "    <tr>\n",
       "      <th>39346</th>\n",
       "      <td>7500</td>\n",
       "      <td>7500</td>\n",
       "      <td>1000.000000</td>\n",
       "      <td>1176.90</td>\n",
       "      <td>8826.723137</td>\n",
       "      <td>0.0</td>\n",
       "      <td>0.0</td>\n",
       "    </tr>\n",
       "    <tr>\n",
       "      <th>39348</th>\n",
       "      <td>14400</td>\n",
       "      <td>14400</td>\n",
       "      <td>1510.690000</td>\n",
       "      <td>1624.17</td>\n",
       "      <td>16608.259630</td>\n",
       "      <td>0.0</td>\n",
       "      <td>0.0</td>\n",
       "    </tr>\n",
       "    <tr>\n",
       "      <th>39362</th>\n",
       "      <td>2150</td>\n",
       "      <td>2150</td>\n",
       "      <td>1574.996529</td>\n",
       "      <td>1111.19</td>\n",
       "      <td>1517.660000</td>\n",
       "      <td>0.0</td>\n",
       "      <td>0.0</td>\n",
       "    </tr>\n",
       "    <tr>\n",
       "      <th>39425</th>\n",
       "      <td>4000</td>\n",
       "      <td>4000</td>\n",
       "      <td>1199.992159</td>\n",
       "      <td>324.54</td>\n",
       "      <td>1084.630000</td>\n",
       "      <td>0.0</td>\n",
       "      <td>0.0</td>\n",
       "    </tr>\n",
       "    <tr>\n",
       "      <th>39430</th>\n",
       "      <td>9400</td>\n",
       "      <td>9400</td>\n",
       "      <td>1748.288384</td>\n",
       "      <td>2122.53</td>\n",
       "      <td>11495.173170</td>\n",
       "      <td>0.0</td>\n",
       "      <td>0.0</td>\n",
       "    </tr>\n",
       "    <tr>\n",
       "      <th>39433</th>\n",
       "      <td>7500</td>\n",
       "      <td>7500</td>\n",
       "      <td>1599.780000</td>\n",
       "      <td>1825.35</td>\n",
       "      <td>8690.585118</td>\n",
       "      <td>0.0</td>\n",
       "      <td>0.0</td>\n",
       "    </tr>\n",
       "    <tr>\n",
       "      <th>39475</th>\n",
       "      <td>12000</td>\n",
       "      <td>12000</td>\n",
       "      <td>725.000000</td>\n",
       "      <td>745.98</td>\n",
       "      <td>12347.219880</td>\n",
       "      <td>0.0</td>\n",
       "      <td>0.0</td>\n",
       "    </tr>\n",
       "    <tr>\n",
       "      <th>39551</th>\n",
       "      <td>12375</td>\n",
       "      <td>12375</td>\n",
       "      <td>1000.000000</td>\n",
       "      <td>1161.29</td>\n",
       "      <td>14370.922250</td>\n",
       "      <td>0.0</td>\n",
       "      <td>0.0</td>\n",
       "    </tr>\n",
       "    <tr>\n",
       "      <th>39562</th>\n",
       "      <td>4800</td>\n",
       "      <td>4800</td>\n",
       "      <td>1100.000000</td>\n",
       "      <td>1176.56</td>\n",
       "      <td>5134.085288</td>\n",
       "      <td>0.0</td>\n",
       "      <td>0.0</td>\n",
       "    </tr>\n",
       "    <tr>\n",
       "      <th>39623</th>\n",
       "      <td>9000</td>\n",
       "      <td>9000</td>\n",
       "      <td>700.000000</td>\n",
       "      <td>311.64</td>\n",
       "      <td>4015.960000</td>\n",
       "      <td>0.0</td>\n",
       "      <td>0.0</td>\n",
       "    </tr>\n",
       "    <tr>\n",
       "      <th>39666</th>\n",
       "      <td>15450</td>\n",
       "      <td>15450</td>\n",
       "      <td>600.000000</td>\n",
       "      <td>451.73</td>\n",
       "      <td>11652.750000</td>\n",
       "      <td>0.0</td>\n",
       "      <td>0.0</td>\n",
       "    </tr>\n",
       "    <tr>\n",
       "      <th>39680</th>\n",
       "      <td>3000</td>\n",
       "      <td>3000</td>\n",
       "      <td>525.000000</td>\n",
       "      <td>626.44</td>\n",
       "      <td>3579.662273</td>\n",
       "      <td>0.0</td>\n",
       "      <td>0.0</td>\n",
       "    </tr>\n",
       "  </tbody>\n",
       "</table>\n",
       "</div>"
      ],
      "text/plain": [
       "       loan_amnt  funded_amnt  funded_amnt_inv  total_pymnt_inv   total_pymnt  \\\n",
       "38995       4000         4000      3000.000000          3287.98   4383.947297   \n",
       "38996       8000         8000      6525.000000          7377.70   9045.347408   \n",
       "38997      12000        12000      8425.000000          8837.09  12586.961160   \n",
       "38998       7500         7500      5387.500000          6395.15   8964.004915   \n",
       "38999      25000        25000      8933.600000          9975.25  28900.635680   \n",
       "39000      15000        15000      9019.298386         10261.03  17332.240720   \n",
       "39001      20000        20000      4031.290514          1369.23   6767.460000   \n",
       "39002      11000        11000      9375.000000         11191.18  13130.978620   \n",
       "39003       4000         4000      3432.380000          3991.54   4672.840531   \n",
       "39013       9500         9500      6350.000000          7277.99  10888.335650   \n",
       "39052      12000        12000      3738.488872          4491.00  14605.768870   \n",
       "39084       9000         9000      3110.870000          3615.48  10756.800000   \n",
       "39138       5000         5000      1791.280000          2015.63   5868.294364   \n",
       "39216      15075        15075      3475.000000          4210.30  18264.780700   \n",
       "39220      10800        10800      2900.000000          3258.64  12135.635730   \n",
       "39251      10100        10100      6425.004533           922.67   1452.190000   \n",
       "39288       1300         1300       850.000000          1004.04   1535.588749   \n",
       "39291      15450        15450      5650.000000          5020.07  13741.250000   \n",
       "39346       7500         7500      1000.000000          1176.90   8826.723137   \n",
       "39348      14400        14400      1510.690000          1624.17  16608.259630   \n",
       "39362       2150         2150      1574.996529          1111.19   1517.660000   \n",
       "39425       4000         4000      1199.992159           324.54   1084.630000   \n",
       "39430       9400         9400      1748.288384          2122.53  11495.173170   \n",
       "39433       7500         7500      1599.780000          1825.35   8690.585118   \n",
       "39475      12000        12000       725.000000           745.98  12347.219880   \n",
       "39551      12375        12375      1000.000000          1161.29  14370.922250   \n",
       "39562       4800         4800      1100.000000          1176.56   5134.085288   \n",
       "39623       9000         9000       700.000000           311.64   4015.960000   \n",
       "39666      15450        15450       600.000000           451.73  11652.750000   \n",
       "39680       3000         3000       525.000000           626.44   3579.662273   \n",
       "\n",
       "       out_prncp  out_prncp_inv  \n",
       "38995        0.0            0.0  \n",
       "38996        0.0            0.0  \n",
       "38997        0.0            0.0  \n",
       "38998        0.0            0.0  \n",
       "38999        0.0            0.0  \n",
       "39000        0.0            0.0  \n",
       "39001        0.0            0.0  \n",
       "39002        0.0            0.0  \n",
       "39003        0.0            0.0  \n",
       "39013        0.0            0.0  \n",
       "39052        0.0            0.0  \n",
       "39084        0.0            0.0  \n",
       "39138        0.0            0.0  \n",
       "39216        0.0            0.0  \n",
       "39220        0.0            0.0  \n",
       "39251        0.0            0.0  \n",
       "39288        0.0            0.0  \n",
       "39291        0.0            0.0  \n",
       "39346        0.0            0.0  \n",
       "39348        0.0            0.0  \n",
       "39362        0.0            0.0  \n",
       "39425        0.0            0.0  \n",
       "39430        0.0            0.0  \n",
       "39433        0.0            0.0  \n",
       "39475        0.0            0.0  \n",
       "39551        0.0            0.0  \n",
       "39562        0.0            0.0  \n",
       "39623        0.0            0.0  \n",
       "39666        0.0            0.0  \n",
       "39680        0.0            0.0  "
      ]
     },
     "execution_count": 37,
     "metadata": {},
     "output_type": "execute_result"
    }
   ],
   "source": [
    "\n",
    "loan[['loan_amnt','funded_amnt','funded_amnt_inv','total_pymnt_inv','total_pymnt','out_prncp','out_prncp_inv']].tail(30)"
   ]
  },
  {
   "cell_type": "markdown",
   "id": "9a819838",
   "metadata": {},
   "source": [
    "From above we can conclude that the loan amount ,funded amount, funded amount inv are same so we need to keep only one column among the three. We can also drop either of total_pymnt_inv or total_pymnt as both has same values."
   ]
  },
  {
   "cell_type": "code",
   "execution_count": 38,
   "id": "6d4f3831",
   "metadata": {},
   "outputs": [],
   "source": [
    "loan=loan.drop('funded_amnt',axis=1)\n",
    "loan=loan.drop('funded_amnt_inv',axis=1)\n",
    "loan=loan.drop('total_pymnt',axis=1)"
   ]
  },
  {
   "cell_type": "code",
   "execution_count": 39,
   "id": "80716815",
   "metadata": {},
   "outputs": [
    {
     "data": {
      "text/plain": [
       "out_prncp  out_prncp_inv\n",
       "0.00       0.00             35367\n",
       "1972.60    1972.60              2\n",
       "2164.84    2164.84              1\n",
       "2180.75    2180.75              1\n",
       "2171.14    2171.14              1\n",
       "                            ...  \n",
       "951.50     951.50               1\n",
       "952.95     952.95               1\n",
       "957.09     957.09               1\n",
       "963.99     962.61               1\n",
       "6311.47    6306.96              1\n",
       "Length: 1066, dtype: int64"
      ]
     },
     "execution_count": 39,
     "metadata": {},
     "output_type": "execute_result"
    }
   ],
   "source": [
    "loan[['out_prncp','out_prncp_inv']].value_counts()"
   ]
  },
  {
   "cell_type": "markdown",
   "id": "158483f2",
   "metadata": {},
   "source": [
    "Since 35367 rows has value as zero both can be dropped"
   ]
  },
  {
   "cell_type": "code",
   "execution_count": 40,
   "id": "d015c5ce",
   "metadata": {},
   "outputs": [],
   "source": [
    "loan=loan.drop('out_prncp',axis=1)\n",
    "loan=loan.drop('out_prncp_inv',axis=1)"
   ]
  },
  {
   "cell_type": "code",
   "execution_count": 41,
   "id": "bd6c4e40",
   "metadata": {},
   "outputs": [
    {
     "data": {
      "text/plain": [
       "(36433, 37)"
      ]
     },
     "execution_count": 41,
     "metadata": {},
     "output_type": "execute_result"
    }
   ],
   "source": [
    "loan.shape"
   ]
  },
  {
   "cell_type": "code",
   "execution_count": 42,
   "id": "ae982342",
   "metadata": {},
   "outputs": [
    {
     "data": {
      "text/html": [
       "<div>\n",
       "<style scoped>\n",
       "    .dataframe tbody tr th:only-of-type {\n",
       "        vertical-align: middle;\n",
       "    }\n",
       "\n",
       "    .dataframe tbody tr th {\n",
       "        vertical-align: top;\n",
       "    }\n",
       "\n",
       "    .dataframe thead th {\n",
       "        text-align: right;\n",
       "    }\n",
       "</style>\n",
       "<table border=\"1\" class=\"dataframe\">\n",
       "  <thead>\n",
       "    <tr style=\"text-align: right;\">\n",
       "      <th></th>\n",
       "      <th>id</th>\n",
       "      <th>loan_amnt</th>\n",
       "      <th>term</th>\n",
       "      <th>int_rate</th>\n",
       "      <th>installment</th>\n",
       "      <th>grade</th>\n",
       "      <th>sub_grade</th>\n",
       "      <th>emp_title</th>\n",
       "      <th>emp_length</th>\n",
       "      <th>home_ownership</th>\n",
       "      <th>...</th>\n",
       "      <th>total_pymnt_inv</th>\n",
       "      <th>total_rec_prncp</th>\n",
       "      <th>total_rec_int</th>\n",
       "      <th>total_rec_late_fee</th>\n",
       "      <th>recoveries</th>\n",
       "      <th>collection_recovery_fee</th>\n",
       "      <th>last_pymnt_d</th>\n",
       "      <th>last_pymnt_amnt</th>\n",
       "      <th>last_credit_pull_d</th>\n",
       "      <th>pub_rec_bankruptcies</th>\n",
       "    </tr>\n",
       "  </thead>\n",
       "  <tbody>\n",
       "    <tr>\n",
       "      <th>1</th>\n",
       "      <td>1077430</td>\n",
       "      <td>2500</td>\n",
       "      <td>60 months</td>\n",
       "      <td>15.27%</td>\n",
       "      <td>59.83</td>\n",
       "      <td>C</td>\n",
       "      <td>C4</td>\n",
       "      <td>Ryder</td>\n",
       "      <td>&lt; 1 year</td>\n",
       "      <td>RENT</td>\n",
       "      <td>...</td>\n",
       "      <td>1008.71</td>\n",
       "      <td>456.46</td>\n",
       "      <td>435.17</td>\n",
       "      <td>0.00</td>\n",
       "      <td>117.08</td>\n",
       "      <td>1.1100</td>\n",
       "      <td>Apr-13</td>\n",
       "      <td>119.66</td>\n",
       "      <td>Sep-13</td>\n",
       "      <td>0.0</td>\n",
       "    </tr>\n",
       "    <tr>\n",
       "      <th>3</th>\n",
       "      <td>1076863</td>\n",
       "      <td>10000</td>\n",
       "      <td>36 months</td>\n",
       "      <td>13.49%</td>\n",
       "      <td>339.31</td>\n",
       "      <td>C</td>\n",
       "      <td>C1</td>\n",
       "      <td>AIR RESOURCES BOARD</td>\n",
       "      <td>10+ years</td>\n",
       "      <td>RENT</td>\n",
       "      <td>...</td>\n",
       "      <td>12231.89</td>\n",
       "      <td>10000.00</td>\n",
       "      <td>2214.92</td>\n",
       "      <td>16.97</td>\n",
       "      <td>0.00</td>\n",
       "      <td>0.0000</td>\n",
       "      <td>Jan-15</td>\n",
       "      <td>357.48</td>\n",
       "      <td>Apr-16</td>\n",
       "      <td>0.0</td>\n",
       "    </tr>\n",
       "    <tr>\n",
       "      <th>4</th>\n",
       "      <td>1075358</td>\n",
       "      <td>3000</td>\n",
       "      <td>60 months</td>\n",
       "      <td>12.69%</td>\n",
       "      <td>67.79</td>\n",
       "      <td>B</td>\n",
       "      <td>B5</td>\n",
       "      <td>University Medical Group</td>\n",
       "      <td>1 year</td>\n",
       "      <td>RENT</td>\n",
       "      <td>...</td>\n",
       "      <td>3513.33</td>\n",
       "      <td>2475.94</td>\n",
       "      <td>1037.39</td>\n",
       "      <td>0.00</td>\n",
       "      <td>0.00</td>\n",
       "      <td>0.0000</td>\n",
       "      <td>May-16</td>\n",
       "      <td>67.79</td>\n",
       "      <td>May-16</td>\n",
       "      <td>0.0</td>\n",
       "    </tr>\n",
       "    <tr>\n",
       "      <th>5</th>\n",
       "      <td>1075269</td>\n",
       "      <td>5000</td>\n",
       "      <td>36 months</td>\n",
       "      <td>7.90%</td>\n",
       "      <td>156.46</td>\n",
       "      <td>A</td>\n",
       "      <td>A4</td>\n",
       "      <td>Veolia Transportaton</td>\n",
       "      <td>3 years</td>\n",
       "      <td>RENT</td>\n",
       "      <td>...</td>\n",
       "      <td>5632.21</td>\n",
       "      <td>5000.00</td>\n",
       "      <td>632.21</td>\n",
       "      <td>0.00</td>\n",
       "      <td>0.00</td>\n",
       "      <td>0.0000</td>\n",
       "      <td>Jan-15</td>\n",
       "      <td>161.03</td>\n",
       "      <td>Jan-16</td>\n",
       "      <td>0.0</td>\n",
       "    </tr>\n",
       "    <tr>\n",
       "      <th>6</th>\n",
       "      <td>1069639</td>\n",
       "      <td>7000</td>\n",
       "      <td>60 months</td>\n",
       "      <td>15.96%</td>\n",
       "      <td>170.08</td>\n",
       "      <td>C</td>\n",
       "      <td>C5</td>\n",
       "      <td>Southern Star Photography</td>\n",
       "      <td>8 years</td>\n",
       "      <td>RENT</td>\n",
       "      <td>...</td>\n",
       "      <td>10110.84</td>\n",
       "      <td>6985.61</td>\n",
       "      <td>3125.23</td>\n",
       "      <td>0.00</td>\n",
       "      <td>0.00</td>\n",
       "      <td>0.0000</td>\n",
       "      <td>May-16</td>\n",
       "      <td>1313.76</td>\n",
       "      <td>May-16</td>\n",
       "      <td>0.0</td>\n",
       "    </tr>\n",
       "    <tr>\n",
       "      <th>7</th>\n",
       "      <td>1072053</td>\n",
       "      <td>3000</td>\n",
       "      <td>36 months</td>\n",
       "      <td>18.64%</td>\n",
       "      <td>109.43</td>\n",
       "      <td>E</td>\n",
       "      <td>E1</td>\n",
       "      <td>MKC Accounting</td>\n",
       "      <td>9 years</td>\n",
       "      <td>RENT</td>\n",
       "      <td>...</td>\n",
       "      <td>3939.14</td>\n",
       "      <td>3000.00</td>\n",
       "      <td>939.14</td>\n",
       "      <td>0.00</td>\n",
       "      <td>0.00</td>\n",
       "      <td>0.0000</td>\n",
       "      <td>Jan-15</td>\n",
       "      <td>111.34</td>\n",
       "      <td>Dec-14</td>\n",
       "      <td>0.0</td>\n",
       "    </tr>\n",
       "    <tr>\n",
       "      <th>9</th>\n",
       "      <td>1071570</td>\n",
       "      <td>5375</td>\n",
       "      <td>60 months</td>\n",
       "      <td>12.69%</td>\n",
       "      <td>121.45</td>\n",
       "      <td>B</td>\n",
       "      <td>B5</td>\n",
       "      <td>Starbucks</td>\n",
       "      <td>&lt; 1 year</td>\n",
       "      <td>RENT</td>\n",
       "      <td>...</td>\n",
       "      <td>1469.34</td>\n",
       "      <td>673.48</td>\n",
       "      <td>533.42</td>\n",
       "      <td>0.00</td>\n",
       "      <td>269.29</td>\n",
       "      <td>2.5200</td>\n",
       "      <td>Nov-12</td>\n",
       "      <td>121.45</td>\n",
       "      <td>Mar-13</td>\n",
       "      <td>0.0</td>\n",
       "    </tr>\n",
       "    <tr>\n",
       "      <th>10</th>\n",
       "      <td>1070078</td>\n",
       "      <td>6500</td>\n",
       "      <td>60 months</td>\n",
       "      <td>14.65%</td>\n",
       "      <td>153.45</td>\n",
       "      <td>C</td>\n",
       "      <td>C3</td>\n",
       "      <td>Southwest Rural metro</td>\n",
       "      <td>5 years</td>\n",
       "      <td>OWN</td>\n",
       "      <td>...</td>\n",
       "      <td>7678.02</td>\n",
       "      <td>6500.00</td>\n",
       "      <td>1178.02</td>\n",
       "      <td>0.00</td>\n",
       "      <td>0.00</td>\n",
       "      <td>0.0000</td>\n",
       "      <td>Jun-13</td>\n",
       "      <td>1655.54</td>\n",
       "      <td>Dec-15</td>\n",
       "      <td>0.0</td>\n",
       "    </tr>\n",
       "    <tr>\n",
       "      <th>11</th>\n",
       "      <td>1069908</td>\n",
       "      <td>12000</td>\n",
       "      <td>36 months</td>\n",
       "      <td>12.69%</td>\n",
       "      <td>402.54</td>\n",
       "      <td>B</td>\n",
       "      <td>B5</td>\n",
       "      <td>UCLA</td>\n",
       "      <td>10+ years</td>\n",
       "      <td>OWN</td>\n",
       "      <td>...</td>\n",
       "      <td>13947.99</td>\n",
       "      <td>12000.00</td>\n",
       "      <td>1947.99</td>\n",
       "      <td>0.00</td>\n",
       "      <td>0.00</td>\n",
       "      <td>0.0000</td>\n",
       "      <td>Sep-13</td>\n",
       "      <td>6315.30</td>\n",
       "      <td>Aug-13</td>\n",
       "      <td>0.0</td>\n",
       "    </tr>\n",
       "    <tr>\n",
       "      <th>12</th>\n",
       "      <td>1064687</td>\n",
       "      <td>9000</td>\n",
       "      <td>36 months</td>\n",
       "      <td>13.49%</td>\n",
       "      <td>305.38</td>\n",
       "      <td>C</td>\n",
       "      <td>C1</td>\n",
       "      <td>Va. Dept of Conservation/Recreation</td>\n",
       "      <td>&lt; 1 year</td>\n",
       "      <td>RENT</td>\n",
       "      <td>...</td>\n",
       "      <td>2270.70</td>\n",
       "      <td>1256.14</td>\n",
       "      <td>570.26</td>\n",
       "      <td>0.00</td>\n",
       "      <td>444.30</td>\n",
       "      <td>4.1600</td>\n",
       "      <td>Jul-12</td>\n",
       "      <td>305.38</td>\n",
       "      <td>Nov-12</td>\n",
       "      <td>0.0</td>\n",
       "    </tr>\n",
       "    <tr>\n",
       "      <th>13</th>\n",
       "      <td>1069866</td>\n",
       "      <td>3000</td>\n",
       "      <td>36 months</td>\n",
       "      <td>9.91%</td>\n",
       "      <td>96.68</td>\n",
       "      <td>B</td>\n",
       "      <td>B1</td>\n",
       "      <td>Target</td>\n",
       "      <td>3 years</td>\n",
       "      <td>RENT</td>\n",
       "      <td>...</td>\n",
       "      <td>3480.27</td>\n",
       "      <td>3000.00</td>\n",
       "      <td>480.27</td>\n",
       "      <td>0.00</td>\n",
       "      <td>0.00</td>\n",
       "      <td>0.0000</td>\n",
       "      <td>Jan-15</td>\n",
       "      <td>102.43</td>\n",
       "      <td>May-16</td>\n",
       "      <td>0.0</td>\n",
       "    </tr>\n",
       "    <tr>\n",
       "      <th>14</th>\n",
       "      <td>1069057</td>\n",
       "      <td>10000</td>\n",
       "      <td>36 months</td>\n",
       "      <td>10.65%</td>\n",
       "      <td>325.74</td>\n",
       "      <td>B</td>\n",
       "      <td>B2</td>\n",
       "      <td>SFMTA</td>\n",
       "      <td>3 years</td>\n",
       "      <td>RENT</td>\n",
       "      <td>...</td>\n",
       "      <td>7471.99</td>\n",
       "      <td>5433.47</td>\n",
       "      <td>1393.42</td>\n",
       "      <td>0.00</td>\n",
       "      <td>645.10</td>\n",
       "      <td>6.3145</td>\n",
       "      <td>Oct-13</td>\n",
       "      <td>325.74</td>\n",
       "      <td>Mar-14</td>\n",
       "      <td>0.0</td>\n",
       "    </tr>\n",
       "    <tr>\n",
       "      <th>15</th>\n",
       "      <td>1069759</td>\n",
       "      <td>1000</td>\n",
       "      <td>36 months</td>\n",
       "      <td>16.29%</td>\n",
       "      <td>35.31</td>\n",
       "      <td>D</td>\n",
       "      <td>D1</td>\n",
       "      <td>Internal revenue Service</td>\n",
       "      <td>&lt; 1 year</td>\n",
       "      <td>RENT</td>\n",
       "      <td>...</td>\n",
       "      <td>1270.72</td>\n",
       "      <td>1000.00</td>\n",
       "      <td>270.72</td>\n",
       "      <td>0.00</td>\n",
       "      <td>0.00</td>\n",
       "      <td>0.0000</td>\n",
       "      <td>Jan-15</td>\n",
       "      <td>36.32</td>\n",
       "      <td>May-16</td>\n",
       "      <td>0.0</td>\n",
       "    </tr>\n",
       "    <tr>\n",
       "      <th>16</th>\n",
       "      <td>1065775</td>\n",
       "      <td>10000</td>\n",
       "      <td>36 months</td>\n",
       "      <td>15.27%</td>\n",
       "      <td>347.98</td>\n",
       "      <td>C</td>\n",
       "      <td>C4</td>\n",
       "      <td>Chin's Restaurant</td>\n",
       "      <td>4 years</td>\n",
       "      <td>RENT</td>\n",
       "      <td>...</td>\n",
       "      <td>12527.15</td>\n",
       "      <td>10000.00</td>\n",
       "      <td>2527.15</td>\n",
       "      <td>0.00</td>\n",
       "      <td>0.00</td>\n",
       "      <td>0.0000</td>\n",
       "      <td>Jan-15</td>\n",
       "      <td>370.46</td>\n",
       "      <td>Apr-15</td>\n",
       "      <td>0.0</td>\n",
       "    </tr>\n",
       "    <tr>\n",
       "      <th>17</th>\n",
       "      <td>1069971</td>\n",
       "      <td>3600</td>\n",
       "      <td>36 months</td>\n",
       "      <td>6.03%</td>\n",
       "      <td>109.57</td>\n",
       "      <td>A</td>\n",
       "      <td>A1</td>\n",
       "      <td>Duracell</td>\n",
       "      <td>10+ years</td>\n",
       "      <td>MORTGAGE</td>\n",
       "      <td>...</td>\n",
       "      <td>3785.27</td>\n",
       "      <td>3600.00</td>\n",
       "      <td>185.27</td>\n",
       "      <td>0.00</td>\n",
       "      <td>0.00</td>\n",
       "      <td>0.0000</td>\n",
       "      <td>May-13</td>\n",
       "      <td>583.45</td>\n",
       "      <td>May-14</td>\n",
       "      <td>0.0</td>\n",
       "    </tr>\n",
       "    <tr>\n",
       "      <th>18</th>\n",
       "      <td>1062474</td>\n",
       "      <td>6000</td>\n",
       "      <td>36 months</td>\n",
       "      <td>11.71%</td>\n",
       "      <td>198.46</td>\n",
       "      <td>B</td>\n",
       "      <td>B3</td>\n",
       "      <td>Connection Inspection</td>\n",
       "      <td>1 year</td>\n",
       "      <td>MORTGAGE</td>\n",
       "      <td>...</td>\n",
       "      <td>7167.07</td>\n",
       "      <td>6000.00</td>\n",
       "      <td>1152.07</td>\n",
       "      <td>15.00</td>\n",
       "      <td>0.00</td>\n",
       "      <td>0.0000</td>\n",
       "      <td>Feb-15</td>\n",
       "      <td>16.98</td>\n",
       "      <td>Jul-15</td>\n",
       "      <td>0.0</td>\n",
       "    </tr>\n",
       "    <tr>\n",
       "      <th>19</th>\n",
       "      <td>1069742</td>\n",
       "      <td>9200</td>\n",
       "      <td>36 months</td>\n",
       "      <td>6.03%</td>\n",
       "      <td>280.01</td>\n",
       "      <td>A</td>\n",
       "      <td>A1</td>\n",
       "      <td>Network Interpreting Service</td>\n",
       "      <td>6 years</td>\n",
       "      <td>RENT</td>\n",
       "      <td>...</td>\n",
       "      <td>9460.00</td>\n",
       "      <td>9200.00</td>\n",
       "      <td>260.00</td>\n",
       "      <td>0.00</td>\n",
       "      <td>0.00</td>\n",
       "      <td>0.0000</td>\n",
       "      <td>Jul-12</td>\n",
       "      <td>8061.10</td>\n",
       "      <td>Feb-16</td>\n",
       "      <td>0.0</td>\n",
       "    </tr>\n",
       "    <tr>\n",
       "      <th>20</th>\n",
       "      <td>1069740</td>\n",
       "      <td>20250</td>\n",
       "      <td>60 months</td>\n",
       "      <td>15.27%</td>\n",
       "      <td>484.63</td>\n",
       "      <td>C</td>\n",
       "      <td>C4</td>\n",
       "      <td>Archdiocese of Galveston Houston</td>\n",
       "      <td>3 years</td>\n",
       "      <td>RENT</td>\n",
       "      <td>...</td>\n",
       "      <td>25433.60</td>\n",
       "      <td>20250.00</td>\n",
       "      <td>7429.05</td>\n",
       "      <td>0.00</td>\n",
       "      <td>0.00</td>\n",
       "      <td>0.0000</td>\n",
       "      <td>Aug-15</td>\n",
       "      <td>6024.09</td>\n",
       "      <td>Mar-16</td>\n",
       "      <td>0.0</td>\n",
       "    </tr>\n",
       "    <tr>\n",
       "      <th>21</th>\n",
       "      <td>1039153</td>\n",
       "      <td>21000</td>\n",
       "      <td>36 months</td>\n",
       "      <td>12.42%</td>\n",
       "      <td>701.73</td>\n",
       "      <td>B</td>\n",
       "      <td>B4</td>\n",
       "      <td>Osram Sylvania</td>\n",
       "      <td>10+ years</td>\n",
       "      <td>RENT</td>\n",
       "      <td>...</td>\n",
       "      <td>14025.40</td>\n",
       "      <td>10694.96</td>\n",
       "      <td>3330.44</td>\n",
       "      <td>0.00</td>\n",
       "      <td>0.00</td>\n",
       "      <td>0.0000</td>\n",
       "      <td>Sep-13</td>\n",
       "      <td>701.73</td>\n",
       "      <td>May-16</td>\n",
       "      <td>0.0</td>\n",
       "    </tr>\n",
       "    <tr>\n",
       "      <th>22</th>\n",
       "      <td>1069710</td>\n",
       "      <td>10000</td>\n",
       "      <td>36 months</td>\n",
       "      <td>11.71%</td>\n",
       "      <td>330.76</td>\n",
       "      <td>B</td>\n",
       "      <td>B3</td>\n",
       "      <td>Value Air</td>\n",
       "      <td>10+ years</td>\n",
       "      <td>OWN</td>\n",
       "      <td>...</td>\n",
       "      <td>11907.35</td>\n",
       "      <td>10000.00</td>\n",
       "      <td>1907.35</td>\n",
       "      <td>0.00</td>\n",
       "      <td>0.00</td>\n",
       "      <td>0.0000</td>\n",
       "      <td>Jan-15</td>\n",
       "      <td>349.21</td>\n",
       "      <td>May-16</td>\n",
       "      <td>0.0</td>\n",
       "    </tr>\n",
       "    <tr>\n",
       "      <th>23</th>\n",
       "      <td>1069700</td>\n",
       "      <td>10000</td>\n",
       "      <td>36 months</td>\n",
       "      <td>11.71%</td>\n",
       "      <td>330.76</td>\n",
       "      <td>B</td>\n",
       "      <td>B3</td>\n",
       "      <td>Wells Fargo Bank</td>\n",
       "      <td>5 years</td>\n",
       "      <td>RENT</td>\n",
       "      <td>...</td>\n",
       "      <td>11540.89</td>\n",
       "      <td>10000.00</td>\n",
       "      <td>1540.89</td>\n",
       "      <td>0.00</td>\n",
       "      <td>0.00</td>\n",
       "      <td>0.0000</td>\n",
       "      <td>Oct-13</td>\n",
       "      <td>4942.63</td>\n",
       "      <td>Mar-14</td>\n",
       "      <td>0.0</td>\n",
       "    </tr>\n",
       "    <tr>\n",
       "      <th>24</th>\n",
       "      <td>1069559</td>\n",
       "      <td>6000</td>\n",
       "      <td>36 months</td>\n",
       "      <td>11.71%</td>\n",
       "      <td>198.46</td>\n",
       "      <td>B</td>\n",
       "      <td>B3</td>\n",
       "      <td>bmg-educational</td>\n",
       "      <td>1 year</td>\n",
       "      <td>RENT</td>\n",
       "      <td>...</td>\n",
       "      <td>2050.14</td>\n",
       "      <td>1305.58</td>\n",
       "      <td>475.25</td>\n",
       "      <td>0.00</td>\n",
       "      <td>269.31</td>\n",
       "      <td>2.5700</td>\n",
       "      <td>Oct-12</td>\n",
       "      <td>198.46</td>\n",
       "      <td>Mar-13</td>\n",
       "      <td>0.0</td>\n",
       "    </tr>\n",
       "    <tr>\n",
       "      <th>25</th>\n",
       "      <td>1069697</td>\n",
       "      <td>15000</td>\n",
       "      <td>36 months</td>\n",
       "      <td>9.91%</td>\n",
       "      <td>483.38</td>\n",
       "      <td>B</td>\n",
       "      <td>B1</td>\n",
       "      <td>Winfield Pathology Consultants</td>\n",
       "      <td>2 years</td>\n",
       "      <td>MORTGAGE</td>\n",
       "      <td>...</td>\n",
       "      <td>15824.00</td>\n",
       "      <td>15000.00</td>\n",
       "      <td>824.00</td>\n",
       "      <td>0.00</td>\n",
       "      <td>0.00</td>\n",
       "      <td>0.0000</td>\n",
       "      <td>Sep-12</td>\n",
       "      <td>2447.05</td>\n",
       "      <td>Sep-12</td>\n",
       "      <td>0.0</td>\n",
       "    </tr>\n",
       "    <tr>\n",
       "      <th>27</th>\n",
       "      <td>1069657</td>\n",
       "      <td>5000</td>\n",
       "      <td>60 months</td>\n",
       "      <td>16.77%</td>\n",
       "      <td>123.65</td>\n",
       "      <td>D</td>\n",
       "      <td>D2</td>\n",
       "      <td>Frito Lay</td>\n",
       "      <td>2 years</td>\n",
       "      <td>RENT</td>\n",
       "      <td>...</td>\n",
       "      <td>1609.12</td>\n",
       "      <td>629.05</td>\n",
       "      <td>719.11</td>\n",
       "      <td>0.00</td>\n",
       "      <td>260.96</td>\n",
       "      <td>2.3000</td>\n",
       "      <td>Dec-12</td>\n",
       "      <td>123.65</td>\n",
       "      <td>May-13</td>\n",
       "      <td>0.0</td>\n",
       "    </tr>\n",
       "    <tr>\n",
       "      <th>28</th>\n",
       "      <td>1069799</td>\n",
       "      <td>4000</td>\n",
       "      <td>36 months</td>\n",
       "      <td>11.71%</td>\n",
       "      <td>132.31</td>\n",
       "      <td>B</td>\n",
       "      <td>B3</td>\n",
       "      <td>Shands Hospital at the University of Fl</td>\n",
       "      <td>10+ years</td>\n",
       "      <td>MORTGAGE</td>\n",
       "      <td>...</td>\n",
       "      <td>4486.29</td>\n",
       "      <td>4000.00</td>\n",
       "      <td>486.29</td>\n",
       "      <td>0.00</td>\n",
       "      <td>0.00</td>\n",
       "      <td>0.0000</td>\n",
       "      <td>Apr-13</td>\n",
       "      <td>2638.77</td>\n",
       "      <td>May-16</td>\n",
       "      <td>0.0</td>\n",
       "    </tr>\n",
       "    <tr>\n",
       "      <th>29</th>\n",
       "      <td>1047704</td>\n",
       "      <td>8500</td>\n",
       "      <td>36 months</td>\n",
       "      <td>11.71%</td>\n",
       "      <td>281.15</td>\n",
       "      <td>B</td>\n",
       "      <td>B3</td>\n",
       "      <td>Oakridge homes</td>\n",
       "      <td>&lt; 1 year</td>\n",
       "      <td>RENT</td>\n",
       "      <td>...</td>\n",
       "      <td>10126.09</td>\n",
       "      <td>8500.00</td>\n",
       "      <td>1626.09</td>\n",
       "      <td>0.00</td>\n",
       "      <td>0.00</td>\n",
       "      <td>0.0000</td>\n",
       "      <td>Dec-14</td>\n",
       "      <td>581.59</td>\n",
       "      <td>Jan-15</td>\n",
       "      <td>0.0</td>\n",
       "    </tr>\n",
       "    <tr>\n",
       "      <th>31</th>\n",
       "      <td>1069539</td>\n",
       "      <td>31825</td>\n",
       "      <td>36 months</td>\n",
       "      <td>7.90%</td>\n",
       "      <td>995.82</td>\n",
       "      <td>A</td>\n",
       "      <td>A4</td>\n",
       "      <td>Audubon Mutual Housing Corporation</td>\n",
       "      <td>5 years</td>\n",
       "      <td>MORTGAGE</td>\n",
       "      <td>...</td>\n",
       "      <td>34886.91</td>\n",
       "      <td>31825.00</td>\n",
       "      <td>3061.91</td>\n",
       "      <td>0.00</td>\n",
       "      <td>0.00</td>\n",
       "      <td>0.0000</td>\n",
       "      <td>Aug-13</td>\n",
       "      <td>16966.70</td>\n",
       "      <td>Feb-16</td>\n",
       "      <td>0.0</td>\n",
       "    </tr>\n",
       "    <tr>\n",
       "      <th>32</th>\n",
       "      <td>1065420</td>\n",
       "      <td>10000</td>\n",
       "      <td>60 months</td>\n",
       "      <td>15.96%</td>\n",
       "      <td>242.97</td>\n",
       "      <td>C</td>\n",
       "      <td>C5</td>\n",
       "      <td>US Legal Support</td>\n",
       "      <td>2 years</td>\n",
       "      <td>RENT</td>\n",
       "      <td>...</td>\n",
       "      <td>12562.85</td>\n",
       "      <td>8150.89</td>\n",
       "      <td>4443.35</td>\n",
       "      <td>0.00</td>\n",
       "      <td>0.00</td>\n",
       "      <td>0.0000</td>\n",
       "      <td>May-16</td>\n",
       "      <td>242.97</td>\n",
       "      <td>Apr-16</td>\n",
       "      <td>0.0</td>\n",
       "    </tr>\n",
       "    <tr>\n",
       "      <th>33</th>\n",
       "      <td>1069591</td>\n",
       "      <td>5000</td>\n",
       "      <td>36 months</td>\n",
       "      <td>8.90%</td>\n",
       "      <td>158.77</td>\n",
       "      <td>A</td>\n",
       "      <td>A5</td>\n",
       "      <td>Good Samaritan Society</td>\n",
       "      <td>2 years</td>\n",
       "      <td>RENT</td>\n",
       "      <td>...</td>\n",
       "      <td>5715.56</td>\n",
       "      <td>5000.00</td>\n",
       "      <td>715.56</td>\n",
       "      <td>0.00</td>\n",
       "      <td>0.00</td>\n",
       "      <td>0.0000</td>\n",
       "      <td>Jan-15</td>\n",
       "      <td>163.64</td>\n",
       "      <td>May-16</td>\n",
       "      <td>0.0</td>\n",
       "    </tr>\n",
       "    <tr>\n",
       "      <th>34</th>\n",
       "      <td>1069530</td>\n",
       "      <td>7000</td>\n",
       "      <td>36 months</td>\n",
       "      <td>15.96%</td>\n",
       "      <td>245.97</td>\n",
       "      <td>C</td>\n",
       "      <td>C5</td>\n",
       "      <td>GREG BARRETT DRYWALL</td>\n",
       "      <td>7 years</td>\n",
       "      <td>RENT</td>\n",
       "      <td>...</td>\n",
       "      <td>8854.51</td>\n",
       "      <td>7000.00</td>\n",
       "      <td>1854.51</td>\n",
       "      <td>0.00</td>\n",
       "      <td>0.00</td>\n",
       "      <td>0.0000</td>\n",
       "      <td>Jan-15</td>\n",
       "      <td>260.74</td>\n",
       "      <td>Dec-14</td>\n",
       "      <td>0.0</td>\n",
       "    </tr>\n",
       "  </tbody>\n",
       "</table>\n",
       "<p>30 rows × 37 columns</p>\n",
       "</div>"
      ],
      "text/plain": [
       "         id  loan_amnt        term int_rate  installment grade sub_grade  \\\n",
       "1   1077430       2500   60 months   15.27%        59.83     C        C4   \n",
       "3   1076863      10000   36 months   13.49%       339.31     C        C1   \n",
       "4   1075358       3000   60 months   12.69%        67.79     B        B5   \n",
       "5   1075269       5000   36 months    7.90%       156.46     A        A4   \n",
       "6   1069639       7000   60 months   15.96%       170.08     C        C5   \n",
       "7   1072053       3000   36 months   18.64%       109.43     E        E1   \n",
       "9   1071570       5375   60 months   12.69%       121.45     B        B5   \n",
       "10  1070078       6500   60 months   14.65%       153.45     C        C3   \n",
       "11  1069908      12000   36 months   12.69%       402.54     B        B5   \n",
       "12  1064687       9000   36 months   13.49%       305.38     C        C1   \n",
       "13  1069866       3000   36 months    9.91%        96.68     B        B1   \n",
       "14  1069057      10000   36 months   10.65%       325.74     B        B2   \n",
       "15  1069759       1000   36 months   16.29%        35.31     D        D1   \n",
       "16  1065775      10000   36 months   15.27%       347.98     C        C4   \n",
       "17  1069971       3600   36 months    6.03%       109.57     A        A1   \n",
       "18  1062474       6000   36 months   11.71%       198.46     B        B3   \n",
       "19  1069742       9200   36 months    6.03%       280.01     A        A1   \n",
       "20  1069740      20250   60 months   15.27%       484.63     C        C4   \n",
       "21  1039153      21000   36 months   12.42%       701.73     B        B4   \n",
       "22  1069710      10000   36 months   11.71%       330.76     B        B3   \n",
       "23  1069700      10000   36 months   11.71%       330.76     B        B3   \n",
       "24  1069559       6000   36 months   11.71%       198.46     B        B3   \n",
       "25  1069697      15000   36 months    9.91%       483.38     B        B1   \n",
       "27  1069657       5000   60 months   16.77%       123.65     D        D2   \n",
       "28  1069799       4000   36 months   11.71%       132.31     B        B3   \n",
       "29  1047704       8500   36 months   11.71%       281.15     B        B3   \n",
       "31  1069539      31825   36 months    7.90%       995.82     A        A4   \n",
       "32  1065420      10000   60 months   15.96%       242.97     C        C5   \n",
       "33  1069591       5000   36 months    8.90%       158.77     A        A5   \n",
       "34  1069530       7000   36 months   15.96%       245.97     C        C5   \n",
       "\n",
       "                                  emp_title emp_length home_ownership  ...  \\\n",
       "1                                     Ryder   < 1 year           RENT  ...   \n",
       "3                       AIR RESOURCES BOARD  10+ years           RENT  ...   \n",
       "4                  University Medical Group     1 year           RENT  ...   \n",
       "5                      Veolia Transportaton    3 years           RENT  ...   \n",
       "6                 Southern Star Photography    8 years           RENT  ...   \n",
       "7                           MKC Accounting     9 years           RENT  ...   \n",
       "9                                 Starbucks   < 1 year           RENT  ...   \n",
       "10                    Southwest Rural metro    5 years            OWN  ...   \n",
       "11                                     UCLA  10+ years            OWN  ...   \n",
       "12      Va. Dept of Conservation/Recreation   < 1 year           RENT  ...   \n",
       "13                                   Target    3 years           RENT  ...   \n",
       "14                                    SFMTA    3 years           RENT  ...   \n",
       "15                 Internal revenue Service   < 1 year           RENT  ...   \n",
       "16                        Chin's Restaurant    4 years           RENT  ...   \n",
       "17                                 Duracell  10+ years       MORTGAGE  ...   \n",
       "18                    Connection Inspection     1 year       MORTGAGE  ...   \n",
       "19             Network Interpreting Service    6 years           RENT  ...   \n",
       "20         Archdiocese of Galveston Houston    3 years           RENT  ...   \n",
       "21                           Osram Sylvania  10+ years           RENT  ...   \n",
       "22                                Value Air  10+ years            OWN  ...   \n",
       "23                         Wells Fargo Bank    5 years           RENT  ...   \n",
       "24                          bmg-educational     1 year           RENT  ...   \n",
       "25           Winfield Pathology Consultants    2 years       MORTGAGE  ...   \n",
       "27                                Frito Lay    2 years           RENT  ...   \n",
       "28  Shands Hospital at the University of Fl  10+ years       MORTGAGE  ...   \n",
       "29                           Oakridge homes   < 1 year           RENT  ...   \n",
       "31       Audubon Mutual Housing Corporation    5 years       MORTGAGE  ...   \n",
       "32                         US Legal Support    2 years           RENT  ...   \n",
       "33                   Good Samaritan Society    2 years           RENT  ...   \n",
       "34                     GREG BARRETT DRYWALL    7 years           RENT  ...   \n",
       "\n",
       "    total_pymnt_inv total_rec_prncp total_rec_int total_rec_late_fee  \\\n",
       "1           1008.71          456.46        435.17               0.00   \n",
       "3          12231.89        10000.00       2214.92              16.97   \n",
       "4           3513.33         2475.94       1037.39               0.00   \n",
       "5           5632.21         5000.00        632.21               0.00   \n",
       "6          10110.84         6985.61       3125.23               0.00   \n",
       "7           3939.14         3000.00        939.14               0.00   \n",
       "9           1469.34          673.48        533.42               0.00   \n",
       "10          7678.02         6500.00       1178.02               0.00   \n",
       "11         13947.99        12000.00       1947.99               0.00   \n",
       "12          2270.70         1256.14        570.26               0.00   \n",
       "13          3480.27         3000.00        480.27               0.00   \n",
       "14          7471.99         5433.47       1393.42               0.00   \n",
       "15          1270.72         1000.00        270.72               0.00   \n",
       "16         12527.15        10000.00       2527.15               0.00   \n",
       "17          3785.27         3600.00        185.27               0.00   \n",
       "18          7167.07         6000.00       1152.07              15.00   \n",
       "19          9460.00         9200.00        260.00               0.00   \n",
       "20         25433.60        20250.00       7429.05               0.00   \n",
       "21         14025.40        10694.96       3330.44               0.00   \n",
       "22         11907.35        10000.00       1907.35               0.00   \n",
       "23         11540.89        10000.00       1540.89               0.00   \n",
       "24          2050.14         1305.58        475.25               0.00   \n",
       "25         15824.00        15000.00        824.00               0.00   \n",
       "27          1609.12          629.05        719.11               0.00   \n",
       "28          4486.29         4000.00        486.29               0.00   \n",
       "29         10126.09         8500.00       1626.09               0.00   \n",
       "31         34886.91        31825.00       3061.91               0.00   \n",
       "32         12562.85         8150.89       4443.35               0.00   \n",
       "33          5715.56         5000.00        715.56               0.00   \n",
       "34          8854.51         7000.00       1854.51               0.00   \n",
       "\n",
       "   recoveries collection_recovery_fee last_pymnt_d last_pymnt_amnt  \\\n",
       "1      117.08                  1.1100       Apr-13          119.66   \n",
       "3        0.00                  0.0000       Jan-15          357.48   \n",
       "4        0.00                  0.0000       May-16           67.79   \n",
       "5        0.00                  0.0000       Jan-15          161.03   \n",
       "6        0.00                  0.0000       May-16         1313.76   \n",
       "7        0.00                  0.0000       Jan-15          111.34   \n",
       "9      269.29                  2.5200       Nov-12          121.45   \n",
       "10       0.00                  0.0000       Jun-13         1655.54   \n",
       "11       0.00                  0.0000       Sep-13         6315.30   \n",
       "12     444.30                  4.1600       Jul-12          305.38   \n",
       "13       0.00                  0.0000       Jan-15          102.43   \n",
       "14     645.10                  6.3145       Oct-13          325.74   \n",
       "15       0.00                  0.0000       Jan-15           36.32   \n",
       "16       0.00                  0.0000       Jan-15          370.46   \n",
       "17       0.00                  0.0000       May-13          583.45   \n",
       "18       0.00                  0.0000       Feb-15           16.98   \n",
       "19       0.00                  0.0000       Jul-12         8061.10   \n",
       "20       0.00                  0.0000       Aug-15         6024.09   \n",
       "21       0.00                  0.0000       Sep-13          701.73   \n",
       "22       0.00                  0.0000       Jan-15          349.21   \n",
       "23       0.00                  0.0000       Oct-13         4942.63   \n",
       "24     269.31                  2.5700       Oct-12          198.46   \n",
       "25       0.00                  0.0000       Sep-12         2447.05   \n",
       "27     260.96                  2.3000       Dec-12          123.65   \n",
       "28       0.00                  0.0000       Apr-13         2638.77   \n",
       "29       0.00                  0.0000       Dec-14          581.59   \n",
       "31       0.00                  0.0000       Aug-13        16966.70   \n",
       "32       0.00                  0.0000       May-16          242.97   \n",
       "33       0.00                  0.0000       Jan-15          163.64   \n",
       "34       0.00                  0.0000       Jan-15          260.74   \n",
       "\n",
       "    last_credit_pull_d  pub_rec_bankruptcies  \n",
       "1               Sep-13                   0.0  \n",
       "3               Apr-16                   0.0  \n",
       "4               May-16                   0.0  \n",
       "5               Jan-16                   0.0  \n",
       "6               May-16                   0.0  \n",
       "7               Dec-14                   0.0  \n",
       "9               Mar-13                   0.0  \n",
       "10              Dec-15                   0.0  \n",
       "11              Aug-13                   0.0  \n",
       "12              Nov-12                   0.0  \n",
       "13              May-16                   0.0  \n",
       "14              Mar-14                   0.0  \n",
       "15              May-16                   0.0  \n",
       "16              Apr-15                   0.0  \n",
       "17              May-14                   0.0  \n",
       "18              Jul-15                   0.0  \n",
       "19              Feb-16                   0.0  \n",
       "20              Mar-16                   0.0  \n",
       "21              May-16                   0.0  \n",
       "22              May-16                   0.0  \n",
       "23              Mar-14                   0.0  \n",
       "24              Mar-13                   0.0  \n",
       "25              Sep-12                   0.0  \n",
       "27              May-13                   0.0  \n",
       "28              May-16                   0.0  \n",
       "29              Jan-15                   0.0  \n",
       "31              Feb-16                   0.0  \n",
       "32              Apr-16                   0.0  \n",
       "33              May-16                   0.0  \n",
       "34              Dec-14                   0.0  \n",
       "\n",
       "[30 rows x 37 columns]"
      ]
     },
     "execution_count": 42,
     "metadata": {},
     "output_type": "execute_result"
    }
   ],
   "source": [
    "loan.head(30)"
   ]
  },
  {
   "cell_type": "markdown",
   "id": "5d9a835d",
   "metadata": {},
   "source": [
    "# Analysis"
   ]
  },
  {
   "cell_type": "markdown",
   "id": "890aec50",
   "metadata": {},
   "source": [
    "## Univariate Analysis"
   ]
  },
  {
   "cell_type": "code",
   "execution_count": 43,
   "id": "f6668538",
   "metadata": {},
   "outputs": [
    {
     "data": {
      "text/plain": [
       "Fully Paid     30424\n",
       "Charged Off     4943\n",
       "Current         1066\n",
       "Name: loan_status, dtype: int64"
      ]
     },
     "execution_count": 43,
     "metadata": {},
     "output_type": "execute_result"
    }
   ],
   "source": [
    "loan['loan_status'].value_counts()"
   ]
  },
  {
   "cell_type": "markdown",
   "id": "a70d03ac",
   "metadata": {},
   "source": [
    "Since we have to consider only charged off and fully paid for our analysis we are dropping rows with loan_status as current"
   ]
  },
  {
   "cell_type": "code",
   "execution_count": 44,
   "id": "8627b080",
   "metadata": {},
   "outputs": [],
   "source": [
    "#Removing the loans that are in Current status\n",
    "loan = loan[loan['loan_status'] != 'Current']"
   ]
  },
  {
   "cell_type": "code",
   "execution_count": 45,
   "id": "f4f246f4",
   "metadata": {},
   "outputs": [
    {
     "data": {
      "text/plain": [
       "(35367, 37)"
      ]
     },
     "execution_count": 45,
     "metadata": {},
     "output_type": "execute_result"
    }
   ],
   "source": [
    "loan.shape"
   ]
  },
  {
   "cell_type": "code",
   "execution_count": 46,
   "id": "ff864a0e",
   "metadata": {},
   "outputs": [
    {
     "name": "stdout",
     "output_type": "stream",
     "text": [
      "<class 'pandas.core.frame.DataFrame'>\n",
      "Int64Index: 35367 entries, 1 to 39680\n",
      "Data columns (total 37 columns):\n",
      " #   Column                   Non-Null Count  Dtype  \n",
      "---  ------                   --------------  -----  \n",
      " 0   id                       35367 non-null  int64  \n",
      " 1   loan_amnt                35367 non-null  int64  \n",
      " 2   term                     35367 non-null  object \n",
      " 3   int_rate                 35367 non-null  object \n",
      " 4   installment              35367 non-null  float64\n",
      " 5   grade                    35367 non-null  object \n",
      " 6   sub_grade                35367 non-null  object \n",
      " 7   emp_title                35367 non-null  object \n",
      " 8   emp_length               35367 non-null  object \n",
      " 9   home_ownership           35367 non-null  object \n",
      " 10  annual_inc               35367 non-null  float64\n",
      " 11  verification_status      35367 non-null  object \n",
      " 12  issue_d                  35367 non-null  object \n",
      " 13  loan_status              35367 non-null  object \n",
      " 14  purpose                  35367 non-null  object \n",
      " 15  title                    35367 non-null  object \n",
      " 16  zip_code                 35367 non-null  object \n",
      " 17  addr_state               35367 non-null  object \n",
      " 18  dti                      35367 non-null  float64\n",
      " 19  delinq_2yrs              35367 non-null  int64  \n",
      " 20  earliest_cr_line         35367 non-null  object \n",
      " 21  inq_last_6mths           35367 non-null  int64  \n",
      " 22  open_acc                 35367 non-null  int64  \n",
      " 23  pub_rec                  35367 non-null  int64  \n",
      " 24  revol_bal                35367 non-null  int64  \n",
      " 25  revol_util               35367 non-null  object \n",
      " 26  total_acc                35367 non-null  int64  \n",
      " 27  total_pymnt_inv          35367 non-null  float64\n",
      " 28  total_rec_prncp          35367 non-null  float64\n",
      " 29  total_rec_int            35367 non-null  float64\n",
      " 30  total_rec_late_fee       35367 non-null  float64\n",
      " 31  recoveries               35367 non-null  float64\n",
      " 32  collection_recovery_fee  35367 non-null  float64\n",
      " 33  last_pymnt_d             35367 non-null  object \n",
      " 34  last_pymnt_amnt          35367 non-null  float64\n",
      " 35  last_credit_pull_d       35367 non-null  object \n",
      " 36  pub_rec_bankruptcies     35367 non-null  float64\n",
      "dtypes: float64(11), int64(8), object(18)\n",
      "memory usage: 10.3+ MB\n"
     ]
    }
   ],
   "source": [
    "loan.info()"
   ]
  },
  {
   "cell_type": "markdown",
   "id": "686b6094",
   "metadata": {},
   "source": [
    "### Column:loan_amnt"
   ]
  },
  {
   "cell_type": "code",
   "execution_count": 47,
   "id": "fbe3112e",
   "metadata": {},
   "outputs": [
    {
     "data": {
      "text/plain": [
       "count    35367.000000\n",
       "mean     11133.071790\n",
       "std       7326.233093\n",
       "min        500.000000\n",
       "25%       5500.000000\n",
       "50%      10000.000000\n",
       "75%      15000.000000\n",
       "max      35000.000000\n",
       "Name: loan_amnt, dtype: float64"
      ]
     },
     "execution_count": 47,
     "metadata": {},
     "output_type": "execute_result"
    }
   ],
   "source": [
    "loan.loan_amnt.describe()"
   ]
  },
  {
   "cell_type": "code",
   "execution_count": 48,
   "id": "21f8e32a",
   "metadata": {},
   "outputs": [
    {
     "data": {
      "text/plain": [
       "loan_status\n",
       "Charged Off     54.135663\n",
       "Fully Paid     112.734200\n",
       "dtype: float64"
      ]
     },
     "execution_count": 48,
     "metadata": {},
     "output_type": "execute_result"
    }
   ],
   "source": [
    "loan.groupby('loan_status').total_pymnt_inv.sum() * 100 / loan.groupby('loan_status').loan_amnt.sum()"
   ]
  },
  {
   "cell_type": "code",
   "execution_count": 49,
   "id": "5c27b150",
   "metadata": {},
   "outputs": [
    {
     "data": {
      "text/plain": [
       "Text(0.5, 1.0, '% of Loan Recovered')"
      ]
     },
     "execution_count": 49,
     "metadata": {},
     "output_type": "execute_result"
    },
    {
     "data": {
      "image/png": "[encoded data removed]",
      "text/plain": [
       "<Figure size 720x360 with 1 Axes>"
      ]
     },
     "metadata": {
      "needs_background": "light"
     },
     "output_type": "display_data"
    }
   ],
   "source": [
    "plt.figure(figsize=(10,5))\n",
    "plot1 =(loan.groupby('loan_status').total_pymnt_inv.sum() * 100 / loan.groupby('loan_status').loan_amnt.sum()).plot.bar()\n",
    "plot1.set_ylabel('loan_recovery')\n",
    "plot1.set_title('% of Loan Recovered')\n"
   ]
  },
  {
   "cell_type": "code",
   "execution_count": 50,
   "id": "72ef3a72",
   "metadata": {},
   "outputs": [
    {
     "data": {
      "text/html": [
       "<div>\n",
       "<style scoped>\n",
       "    .dataframe tbody tr th:only-of-type {\n",
       "        vertical-align: middle;\n",
       "    }\n",
       "\n",
       "    .dataframe tbody tr th {\n",
       "        vertical-align: top;\n",
       "    }\n",
       "\n",
       "    .dataframe thead th {\n",
       "        text-align: right;\n",
       "    }\n",
       "</style>\n",
       "<table border=\"1\" class=\"dataframe\">\n",
       "  <thead>\n",
       "    <tr style=\"text-align: right;\">\n",
       "      <th></th>\n",
       "      <th>count</th>\n",
       "      <th>mean</th>\n",
       "      <th>std</th>\n",
       "      <th>min</th>\n",
       "      <th>25%</th>\n",
       "      <th>50%</th>\n",
       "      <th>75%</th>\n",
       "      <th>max</th>\n",
       "    </tr>\n",
       "    <tr>\n",
       "      <th>loan_status</th>\n",
       "      <th></th>\n",
       "      <th></th>\n",
       "      <th></th>\n",
       "      <th></th>\n",
       "      <th></th>\n",
       "      <th></th>\n",
       "      <th></th>\n",
       "      <th></th>\n",
       "    </tr>\n",
       "  </thead>\n",
       "  <tbody>\n",
       "    <tr>\n",
       "      <th>Charged Off</th>\n",
       "      <td>4943.0</td>\n",
       "      <td>12286.147077</td>\n",
       "      <td>8064.255961</td>\n",
       "      <td>1000.0</td>\n",
       "      <td>6000.0</td>\n",
       "      <td>10000.0</td>\n",
       "      <td>17000.0</td>\n",
       "      <td>35000.0</td>\n",
       "    </tr>\n",
       "    <tr>\n",
       "      <th>Fully Paid</th>\n",
       "      <td>30424.0</td>\n",
       "      <td>10945.731166</td>\n",
       "      <td>7181.867451</td>\n",
       "      <td>500.0</td>\n",
       "      <td>5500.0</td>\n",
       "      <td>9600.0</td>\n",
       "      <td>15000.0</td>\n",
       "      <td>35000.0</td>\n",
       "    </tr>\n",
       "  </tbody>\n",
       "</table>\n",
       "</div>"
      ],
      "text/plain": [
       "               count          mean          std     min     25%      50%  \\\n",
       "loan_status                                                                \n",
       "Charged Off   4943.0  12286.147077  8064.255961  1000.0  6000.0  10000.0   \n",
       "Fully Paid   30424.0  10945.731166  7181.867451   500.0  5500.0   9600.0   \n",
       "\n",
       "                 75%      max  \n",
       "loan_status                    \n",
       "Charged Off  17000.0  35000.0  \n",
       "Fully Paid   15000.0  35000.0  "
      ]
     },
     "execution_count": 50,
     "metadata": {},
     "output_type": "execute_result"
    }
   ],
   "source": [
    "loan.groupby('loan_status')['loan_amnt'].describe()"
   ]
  },
  {
   "cell_type": "code",
   "execution_count": 51,
   "id": "d83e41a3",
   "metadata": {},
   "outputs": [
    {
     "data": {
      "image/png": "[encoded data removed]",
      "text/plain": [
       "<Figure size 1440x360 with 2 Axes>"
      ]
     },
     "metadata": {
      "needs_background": "light"
     },
     "output_type": "display_data"
    }
   ],
   "source": [
    "plt.figure(figsize=(20,5))\n",
    "plt.subplot(1, 2, 1)\n",
    "ay = sns.distplot(loan['loan_amnt'])\n",
    "ay.set_title('Distribution plot of loan amount')\n",
    "plt.subplot(1, 2, 2)\n",
    "ay=sns.boxplot(x=loan['loan_amnt'],y=loan['loan_status'],data=loan)\n",
    "\n",
    "ay.set_title('Boc plot of loan amount for each loan status')\n",
    "plt.show()\n"
   ]
  },
  {
   "cell_type": "markdown",
   "id": "6e706873",
   "metadata": {},
   "source": [
    "### Observation :\n",
    "###### The loan amount mostly lies within 5000-15000 and the distribution is clustered towards right with mean greater than median. Charged off loan has a higher mean than fully paid loan"
   ]
  },
  {
   "cell_type": "code",
   "execution_count": 52,
   "id": "df07b44d",
   "metadata": {},
   "outputs": [],
   "source": [
    "#Creating loan amount buckets\n",
    "loan['loan_amnt_buc'] = pd.cut(loan.loan_amnt, [0, 5000, 10000, 15000, 20000, 25000], labels=['0-5000', '5000-10000', \n",
    "                                                                                     '10000-15000', '15000-20000',\n",
    "                                                                                     '20000+'])"
   ]
  },
  {
   "cell_type": "markdown",
   "id": "d9dbfeab",
   "metadata": {},
   "source": [
    "### Column : term"
   ]
  },
  {
   "cell_type": "code",
   "execution_count": 53,
   "id": "58b3b174",
   "metadata": {},
   "outputs": [
    {
     "data": {
      "text/plain": [
       " 36 months    26377\n",
       " 60 months     8990\n",
       "Name: term, dtype: int64"
      ]
     },
     "execution_count": 53,
     "metadata": {},
     "output_type": "execute_result"
    }
   ],
   "source": [
    "loan.term.value_counts()"
   ]
  },
  {
   "cell_type": "code",
   "execution_count": 54,
   "id": "790df8df",
   "metadata": {},
   "outputs": [
    {
     "data": {
      "text/plain": [
       "Text(0.5, 1.0, '% of loan alloted for Each term ')"
      ]
     },
     "execution_count": 54,
     "metadata": {},
     "output_type": "execute_result"
    },
    {
     "data": {
      "image/png": "[encoded data removed]",
      "text/plain": [
       "<Figure size 432x288 with 1 Axes>"
      ]
     },
     "metadata": {
      "needs_background": "light"
     },
     "output_type": "display_data"
    }
   ],
   "source": [
    "ax=(loan.term.value_counts(normalize=True)*100).plot.bar()\n",
    "ax.set_ylabel('% of loan ')\n",
    "ax.set_xlabel('term ')\n",
    "ax.set_title('% of loan alloted for Each term ')"
   ]
  },
  {
   "cell_type": "markdown",
   "id": "86dbfb13",
   "metadata": {},
   "source": [
    "#### Observation:\n",
    "##### More than 70% of loan are given for 36 months"
   ]
  },
  {
   "cell_type": "markdown",
   "id": "a5ec6a01",
   "metadata": {},
   "source": [
    "### Column : int_rate"
   ]
  },
  {
   "cell_type": "code",
   "execution_count": 55,
   "id": "7571fa04",
   "metadata": {},
   "outputs": [
    {
     "data": {
      "text/plain": [
       "count      35367\n",
       "unique       334\n",
       "top       10.99%\n",
       "freq         862\n",
       "Name: int_rate, dtype: object"
      ]
     },
     "execution_count": 55,
     "metadata": {},
     "output_type": "execute_result"
    }
   ],
   "source": [
    "loan.int_rate.describe()"
   ]
  },
  {
   "cell_type": "code",
   "execution_count": 56,
   "id": "ce191d3f",
   "metadata": {},
   "outputs": [],
   "source": [
    "#Customm function to convert % columns to float\n",
    "def convertToFloat(column):\n",
    "    return float(column.rstrip('%'))"
   ]
  },
  {
   "cell_type": "code",
   "execution_count": 57,
   "id": "f942472a",
   "metadata": {},
   "outputs": [],
   "source": [
    "#Converting int_rate to float\n",
    "loan.int_rate = loan.int_rate.apply(lambda x: convertToFloat(x))"
   ]
  },
  {
   "cell_type": "code",
   "execution_count": 58,
   "id": "3ccbe35e",
   "metadata": {},
   "outputs": [
    {
     "data": {
      "text/plain": [
       "count    35367.000000\n",
       "mean        11.983468\n",
       "std          3.702512\n",
       "min          5.420000\n",
       "25%          8.940000\n",
       "50%         11.830000\n",
       "75%         14.460000\n",
       "max         24.400000\n",
       "Name: int_rate, dtype: float64"
      ]
     },
     "execution_count": 58,
     "metadata": {},
     "output_type": "execute_result"
    }
   ],
   "source": [
    "loan.int_rate.describe()"
   ]
  },
  {
   "cell_type": "code",
   "execution_count": 59,
   "id": "1bf6d124",
   "metadata": {},
   "outputs": [
    {
     "data": {
      "image/png": "[encoded data removed]",
      "text/plain": [
       "<Figure size 1440x360 with 2 Axes>"
      ]
     },
     "metadata": {
      "needs_background": "light"
     },
     "output_type": "display_data"
    }
   ],
   "source": [
    "plt.figure(figsize=(20,5))\n",
    "plt.subplot(1, 2, 1)\n",
    "ax=sns.distplot(loan['int_rate'])\n",
    "ax.set_title('Distribution plot of Int Rate')\n",
    "plt.subplot(1, 2, 2)\n",
    "ay=sns.boxplot(x=loan['int_rate'],y=loan['loan_status'],data=loan)\n",
    "ay=ay.set_title('Box plot of Int Rate for Each loan Status')\n",
    "plt.show()\n"
   ]
  },
  {
   "cell_type": "code",
   "execution_count": 60,
   "id": "880f0e42",
   "metadata": {},
   "outputs": [
    {
     "data": {
      "text/html": [
       "<div>\n",
       "<style scoped>\n",
       "    .dataframe tbody tr th:only-of-type {\n",
       "        vertical-align: middle;\n",
       "    }\n",
       "\n",
       "    .dataframe tbody tr th {\n",
       "        vertical-align: top;\n",
       "    }\n",
       "\n",
       "    .dataframe thead th {\n",
       "        text-align: right;\n",
       "    }\n",
       "</style>\n",
       "<table border=\"1\" class=\"dataframe\">\n",
       "  <thead>\n",
       "    <tr style=\"text-align: right;\">\n",
       "      <th></th>\n",
       "      <th>count</th>\n",
       "      <th>mean</th>\n",
       "      <th>std</th>\n",
       "      <th>min</th>\n",
       "      <th>25%</th>\n",
       "      <th>50%</th>\n",
       "      <th>75%</th>\n",
       "      <th>max</th>\n",
       "    </tr>\n",
       "    <tr>\n",
       "      <th>loan_status</th>\n",
       "      <th></th>\n",
       "      <th></th>\n",
       "      <th></th>\n",
       "      <th></th>\n",
       "      <th></th>\n",
       "      <th></th>\n",
       "      <th></th>\n",
       "      <th></th>\n",
       "    </tr>\n",
       "  </thead>\n",
       "  <tbody>\n",
       "    <tr>\n",
       "      <th>Charged Off</th>\n",
       "      <td>4943.0</td>\n",
       "      <td>13.929828</td>\n",
       "      <td>3.647619</td>\n",
       "      <td>5.42</td>\n",
       "      <td>11.49</td>\n",
       "      <td>13.79</td>\n",
       "      <td>16.45</td>\n",
       "      <td>24.40</td>\n",
       "    </tr>\n",
       "    <tr>\n",
       "      <th>Fully Paid</th>\n",
       "      <td>30424.0</td>\n",
       "      <td>11.667243</td>\n",
       "      <td>3.613734</td>\n",
       "      <td>5.42</td>\n",
       "      <td>8.59</td>\n",
       "      <td>11.49</td>\n",
       "      <td>14.09</td>\n",
       "      <td>24.11</td>\n",
       "    </tr>\n",
       "  </tbody>\n",
       "</table>\n",
       "</div>"
      ],
      "text/plain": [
       "               count       mean       std   min    25%    50%    75%    max\n",
       "loan_status                                                                \n",
       "Charged Off   4943.0  13.929828  3.647619  5.42  11.49  13.79  16.45  24.40\n",
       "Fully Paid   30424.0  11.667243  3.613734  5.42   8.59  11.49  14.09  24.11"
      ]
     },
     "execution_count": 60,
     "metadata": {},
     "output_type": "execute_result"
    }
   ],
   "source": [
    "loan.groupby('loan_status')['int_rate'].describe()"
   ]
  },
  {
   "cell_type": "markdown",
   "id": "af217ae5",
   "metadata": {},
   "source": [
    "#### Observation:\n",
    "Charged off loans of higher interest rate is higher compared to fully paid.\n"
   ]
  },
  {
   "cell_type": "code",
   "execution_count": 61,
   "id": "d416a877",
   "metadata": {},
   "outputs": [],
   "source": [
    "#Creating interest rate buckets\n",
    "loan['int_rate_buc'] = pd.cut(loan.int_rate, [0, 10, 12, 15, 20], labels=['0-10', '10-12', '12-15','15+'])"
   ]
  },
  {
   "cell_type": "markdown",
   "id": "61ebeaa7",
   "metadata": {},
   "source": [
    "#### Column: Installment"
   ]
  },
  {
   "cell_type": "code",
   "execution_count": 62,
   "id": "7b0b0253",
   "metadata": {},
   "outputs": [
    {
     "data": {
      "text/plain": [
       "count    35367.000000\n",
       "mean       324.043982\n",
       "std        207.149088\n",
       "min         16.080000\n",
       "25%        167.840000\n",
       "50%        280.620000\n",
       "75%        426.640000\n",
       "max       1305.190000\n",
       "Name: installment, dtype: float64"
      ]
     },
     "execution_count": 62,
     "metadata": {},
     "output_type": "execute_result"
    }
   ],
   "source": [
    "loan.installment.describe()"
   ]
  },
  {
   "cell_type": "code",
   "execution_count": 63,
   "id": "e5b3e709",
   "metadata": {},
   "outputs": [
    {
     "data": {
      "image/png": "[encoded data removed]",
      "text/plain": [
       "<Figure size 1440x360 with 2 Axes>"
      ]
     },
     "metadata": {
      "needs_background": "light"
     },
     "output_type": "display_data"
    }
   ],
   "source": [
    "plt.figure(figsize=(20,5))\n",
    "plt.subplot(1, 2, 1)\n",
    "ay=sns.distplot(loan['installment'])\n",
    "ay=ay.set_title('Distribution plot of installment')\n",
    "plt.subplot(1, 2, 2)\n",
    "ax=sns.boxplot(x=loan['installment'],y=loan['loan_status'],data=loan)\n",
    "ax=ax.set_title('Box plot of installment against each Loan status')\n",
    "plt.show()\n"
   ]
  },
  {
   "cell_type": "code",
   "execution_count": 64,
   "id": "235c3946",
   "metadata": {},
   "outputs": [
    {
     "data": {
      "text/html": [
       "<div>\n",
       "<style scoped>\n",
       "    .dataframe tbody tr th:only-of-type {\n",
       "        vertical-align: middle;\n",
       "    }\n",
       "\n",
       "    .dataframe tbody tr th {\n",
       "        vertical-align: top;\n",
       "    }\n",
       "\n",
       "    .dataframe thead th {\n",
       "        text-align: right;\n",
       "    }\n",
       "</style>\n",
       "<table border=\"1\" class=\"dataframe\">\n",
       "  <thead>\n",
       "    <tr style=\"text-align: right;\">\n",
       "      <th></th>\n",
       "      <th>count</th>\n",
       "      <th>mean</th>\n",
       "      <th>std</th>\n",
       "      <th>min</th>\n",
       "      <th>25%</th>\n",
       "      <th>50%</th>\n",
       "      <th>75%</th>\n",
       "      <th>max</th>\n",
       "    </tr>\n",
       "    <tr>\n",
       "      <th>loan_status</th>\n",
       "      <th></th>\n",
       "      <th></th>\n",
       "      <th></th>\n",
       "      <th></th>\n",
       "      <th></th>\n",
       "      <th></th>\n",
       "      <th></th>\n",
       "      <th></th>\n",
       "    </tr>\n",
       "  </thead>\n",
       "  <tbody>\n",
       "    <tr>\n",
       "      <th>Charged Off</th>\n",
       "      <td>4943.0</td>\n",
       "      <td>338.848452</td>\n",
       "      <td>214.527655</td>\n",
       "      <td>22.79</td>\n",
       "      <td>172.4350</td>\n",
       "      <td>298.33</td>\n",
       "      <td>458.3150</td>\n",
       "      <td>1305.19</td>\n",
       "    </tr>\n",
       "    <tr>\n",
       "      <th>Fully Paid</th>\n",
       "      <td>30424.0</td>\n",
       "      <td>321.638693</td>\n",
       "      <td>205.828423</td>\n",
       "      <td>16.08</td>\n",
       "      <td>167.2975</td>\n",
       "      <td>278.24</td>\n",
       "      <td>422.3075</td>\n",
       "      <td>1295.21</td>\n",
       "    </tr>\n",
       "  </tbody>\n",
       "</table>\n",
       "</div>"
      ],
      "text/plain": [
       "               count        mean         std    min       25%     50%  \\\n",
       "loan_status                                                             \n",
       "Charged Off   4943.0  338.848452  214.527655  22.79  172.4350  298.33   \n",
       "Fully Paid   30424.0  321.638693  205.828423  16.08  167.2975  278.24   \n",
       "\n",
       "                  75%      max  \n",
       "loan_status                     \n",
       "Charged Off  458.3150  1305.19  \n",
       "Fully Paid   422.3075  1295.21  "
      ]
     },
     "execution_count": 64,
     "metadata": {},
     "output_type": "execute_result"
    }
   ],
   "source": [
    "loan.groupby('loan_status')['installment'].describe()"
   ]
  },
  {
   "cell_type": "markdown",
   "id": "fc642569",
   "metadata": {},
   "source": [
    "#### Observation\n",
    "Installment amount lies in the range of 167 to 427 \n",
    "Charged off have higher mean of installment "
   ]
  },
  {
   "cell_type": "markdown",
   "id": "df3050bc",
   "metadata": {},
   "source": [
    "#### Column : Grade"
   ]
  },
  {
   "cell_type": "code",
   "execution_count": 65,
   "id": "13e8b853",
   "metadata": {},
   "outputs": [
    {
     "data": {
      "image/png": "[encoded data removed]",
      "text/plain": [
       "<Figure size 1440x360 with 2 Axes>"
      ]
     },
     "metadata": {
      "needs_background": "light"
     },
     "output_type": "display_data"
    }
   ],
   "source": [
    "plt.figure(figsize=(20,5))\n",
    "plt.subplot(1, 2, 1)\n",
    "ax=(loan.grade.value_counts(normalize=True)*100).plot.bar()\n",
    "ax.set_ylabel('Count %')\n",
    "ax.set_title('Total Count % of Each Grade')\n",
    "plt.subplot(1, 2, 2)\n",
    "ay=(loan[loan['loan_status']=='Charged Off'].grade.value_counts(normalize=True)*100).plot.bar()\n",
    "ay.set_ylabel('Count % in Charged Off')\n",
    "ay.set_title('Count % of Each Grade for Charged OFf')\n",
    "plt.show()\n"
   ]
  },
  {
   "cell_type": "markdown",
   "id": "db376a04",
   "metadata": {},
   "source": [
    "#### Observation\n",
    "A and B grades are less likely to fall in default list\n"
   ]
  },
  {
   "cell_type": "markdown",
   "id": "b4ee0a09",
   "metadata": {},
   "source": [
    "#### Column: Sub grade"
   ]
  },
  {
   "cell_type": "code",
   "execution_count": 66,
   "id": "47d96b7b",
   "metadata": {
    "scrolled": true
   },
   "outputs": [
    {
     "data": {
      "image/png": "[encoded data removed]",
      "text/plain": [
       "<Figure size 1440x360 with 2 Axes>"
      ]
     },
     "metadata": {
      "needs_background": "light"
     },
     "output_type": "display_data"
    }
   ],
   "source": [
    "plt.figure(figsize=(20,5))\n",
    "plt.subplot(1, 2, 1)\n",
    "ay=(loan.sub_grade.value_counts(normalize=True)*100).plot.bar()\n",
    "ay.set_xlabel('% of loan')\n",
    "ay.set_ylabel('sub grades')\n",
    "ay.set_title('% of loan distributed across each subgrade')\n",
    "plt.subplot(1, 2, 2)\n",
    "ax=(loan[loan['loan_status']=='Charged Off'].sub_grade.value_counts(normalize=True)*100).plot.bar()\n",
    "ax.set_xlabel('% of loan Charged off')\n",
    "ax.set_ylabel('sub grades')\n",
    "ax.set_title('% of charged off loan distributed across each subgrade')\n",
    "plt.show()"
   ]
  },
  {
   "cell_type": "markdown",
   "id": "4926a510",
   "metadata": {},
   "source": [
    "#### Column:emp_length"
   ]
  },
  {
   "cell_type": "code",
   "execution_count": 67,
   "id": "e8545c60",
   "metadata": {},
   "outputs": [
    {
     "data": {
      "text/plain": [
       "Text(0.5, 1.0, '% of loan distributed for each emp_length')"
      ]
     },
     "execution_count": 67,
     "metadata": {},
     "output_type": "execute_result"
    },
    {
     "data": {
      "image/png": "[encoded data removed]",
      "text/plain": [
       "<Figure size 432x288 with 1 Axes>"
      ]
     },
     "metadata": {
      "needs_background": "light"
     },
     "output_type": "display_data"
    }
   ],
   "source": [
    "\n",
    "ay=(loan.emp_length.value_counts(normalize=True)*100).plot.bar()\n",
    "ay.set_xlabel('% of loan')\n",
    "ay.set_ylabel('emp_length')\n",
    "ay.set_title('% of loan distributed for each emp_length')"
   ]
  },
  {
   "cell_type": "markdown",
   "id": "d0b9e3ef",
   "metadata": {},
   "source": [
    "#### Column:home_ownership"
   ]
  },
  {
   "cell_type": "code",
   "execution_count": 68,
   "id": "45af505e",
   "metadata": {},
   "outputs": [
    {
     "data": {
      "image/png": "[encoded data removed]",
      "text/plain": [
       "<Figure size 1440x360 with 2 Axes>"
      ]
     },
     "metadata": {
      "needs_background": "light"
     },
     "output_type": "display_data"
    }
   ],
   "source": [
    "plt.figure(figsize=(20,5))\n",
    "plt.subplot(1, 2, 1)\n",
    "ay=(loan.home_ownership.value_counts(normalize=True)*100).plot.bar()\n",
    "ay.set_xlabel('% of loan')\n",
    "ay.set_ylabel('Home Owner ship')\n",
    "ay.set_title('% of loan distributed against home ownership')\n",
    "plt.subplot(1, 2, 2)\n",
    "ay=(loan[loan['loan_status']=='Charged Off'].home_ownership.value_counts(normalize=True)*100).plot.bar()\n",
    "ay.set_xlabel('% of charged off loan')\n",
    "ay.set_ylabel('Home Owner ship')\n",
    "ay.set_title('% of charged off loan distributed against home ownership')\n",
    "plt.show()"
   ]
  },
  {
   "cell_type": "markdown",
   "id": "c83c1581",
   "metadata": {},
   "source": [
    "#### Observation:\n",
    "Those having rented or mortgaged home are high chances for being a defaulter"
   ]
  },
  {
   "cell_type": "markdown",
   "id": "4fbcedf3",
   "metadata": {},
   "source": [
    "#### Column:annual_incm"
   ]
  },
  {
   "cell_type": "code",
   "execution_count": 69,
   "id": "e6e0e1f6",
   "metadata": {},
   "outputs": [
    {
     "data": {
      "text/plain": [
       "count    3.536700e+04\n",
       "mean     6.909599e+04\n",
       "std      6.396705e+04\n",
       "min      4.000000e+03\n",
       "25%      4.150000e+04\n",
       "50%      6.000000e+04\n",
       "75%      8.250000e+04\n",
       "max      6.000000e+06\n",
       "Name: annual_inc, dtype: float64"
      ]
     },
     "execution_count": 69,
     "metadata": {},
     "output_type": "execute_result"
    }
   ],
   "source": [
    "loan.annual_inc.describe()"
   ]
  },
  {
   "cell_type": "code",
   "execution_count": 70,
   "id": "82161400",
   "metadata": {},
   "outputs": [],
   "source": [
    "#To avaoid scientific notation\n",
    "pd.set_option('display.float_format', lambda x: '%.3f' % x)"
   ]
  },
  {
   "cell_type": "code",
   "execution_count": 71,
   "id": "8c29d876",
   "metadata": {},
   "outputs": [
    {
     "data": {
      "text/plain": [
       "count     35367.000\n",
       "mean      69095.985\n",
       "std       63967.047\n",
       "min        4000.000\n",
       "25%       41500.000\n",
       "50%       60000.000\n",
       "75%       82500.000\n",
       "max     6000000.000\n",
       "Name: annual_inc, dtype: float64"
      ]
     },
     "execution_count": 71,
     "metadata": {},
     "output_type": "execute_result"
    }
   ],
   "source": [
    "loan.annual_inc.describe()"
   ]
  },
  {
   "cell_type": "code",
   "execution_count": 72,
   "id": "2a1a9f3a",
   "metadata": {},
   "outputs": [
    {
     "data": {
      "text/plain": [
       "<AxesSubplot:>"
      ]
     },
     "execution_count": 72,
     "metadata": {},
     "output_type": "execute_result"
    },
    {
     "data": {
      "image/png": "[encoded data removed]",
      "text/plain": [
       "<Figure size 432x288 with 1 Axes>"
      ]
     },
     "metadata": {
      "needs_background": "light"
     },
     "output_type": "display_data"
    }
   ],
   "source": [
    "loan.annual_inc.plot.box()"
   ]
  },
  {
   "cell_type": "code",
   "execution_count": 73,
   "id": "7905f91e",
   "metadata": {},
   "outputs": [],
   "source": [
    "#Removing the outliers from annual_inc\n",
    "loan = loan[~(loan.annual_inc > 2500000)]"
   ]
  },
  {
   "cell_type": "code",
   "execution_count": 74,
   "id": "b41dd7f9",
   "metadata": {},
   "outputs": [
    {
     "data": {
      "text/plain": [
       "<AxesSubplot:>"
      ]
     },
     "execution_count": 74,
     "metadata": {},
     "output_type": "execute_result"
    },
    {
     "data": {
      "image/png": "[encoded data removed]",
      "text/plain": [
       "<Figure size 432x288 with 1 Axes>"
      ]
     },
     "metadata": {
      "needs_background": "light"
     },
     "output_type": "display_data"
    }
   ],
   "source": [
    "loan.annual_inc.plot.box()"
   ]
  },
  {
   "cell_type": "code",
   "execution_count": 75,
   "id": "3f05432a",
   "metadata": {
    "scrolled": true
   },
   "outputs": [
    {
     "data": {
      "text/plain": [
       "count     35365.000\n",
       "mean      68819.955\n",
       "std       51790.654\n",
       "min        4000.000\n",
       "25%       41500.000\n",
       "50%       60000.000\n",
       "75%       82500.000\n",
       "max     1900000.000\n",
       "Name: annual_inc, dtype: float64"
      ]
     },
     "execution_count": 75,
     "metadata": {},
     "output_type": "execute_result"
    }
   ],
   "source": [
    "loan.annual_inc.describe()"
   ]
  },
  {
   "cell_type": "code",
   "execution_count": 76,
   "id": "933ab800",
   "metadata": {},
   "outputs": [],
   "source": [
    "#To avaoid scientific notation\n",
    "pd.set_option('display.float_format', lambda x: '%.3f' % x)"
   ]
  },
  {
   "cell_type": "code",
   "execution_count": 77,
   "id": "5b8db06e",
   "metadata": {},
   "outputs": [
    {
     "data": {
      "text/plain": [
       "count     35365.000\n",
       "mean      68819.955\n",
       "std       51790.654\n",
       "min        4000.000\n",
       "25%       41500.000\n",
       "50%       60000.000\n",
       "75%       82500.000\n",
       "max     1900000.000\n",
       "Name: annual_inc, dtype: float64"
      ]
     },
     "execution_count": 77,
     "metadata": {},
     "output_type": "execute_result"
    }
   ],
   "source": [
    "loan.annual_inc.describe()"
   ]
  },
  {
   "cell_type": "code",
   "execution_count": 78,
   "id": "19b4ab82",
   "metadata": {},
   "outputs": [
    {
     "data": {
      "text/plain": [
       "<AxesSubplot:>"
      ]
     },
     "execution_count": 78,
     "metadata": {},
     "output_type": "execute_result"
    },
    {
     "data": {
      "image/png": "[encoded data removed]",
      "text/plain": [
       "<Figure size 432x288 with 1 Axes>"
      ]
     },
     "metadata": {
      "needs_background": "light"
     },
     "output_type": "display_data"
    }
   ],
   "source": [
    "loan.annual_inc.plot.box()"
   ]
  },
  {
   "cell_type": "code",
   "execution_count": 79,
   "id": "6a2cc1fa",
   "metadata": {},
   "outputs": [],
   "source": [
    "#Removing the outliers from annual_inc\n",
    "loan = loan[~(loan.annual_inc > 250000)]"
   ]
  },
  {
   "cell_type": "code",
   "execution_count": 80,
   "id": "f08c9844",
   "metadata": {},
   "outputs": [
    {
     "data": {
      "image/png": "[encoded data removed]",
      "text/plain": [
       "<Figure size 1440x360 with 1 Axes>"
      ]
     },
     "metadata": {
      "needs_background": "light"
     },
     "output_type": "display_data"
    }
   ],
   "source": [
    "plt.figure(figsize=(20, 5))\n",
    "ay=sns.distplot(loan['annual_inc'])\n",
    "ay.set_title('Distribution plot of annual inc')\n",
    "plt.xticks(np.arange(0, 250000, 20000))\n",
    "plt.show()"
   ]
  },
  {
   "cell_type": "code",
   "execution_count": 81,
   "id": "435e6a45",
   "metadata": {},
   "outputs": [],
   "source": [
    "#Creating annual income buckets\n",
    "loan['annual_inc_buc'] = pd.cut(loan.annual_inc, [0, 20000, 40000, 60000, 80000, 100000], labels=['0-20k', '20k-40k', \n",
    "                                                                                     '40k-60k', '60k-80k',\n",
    "                                                                                     '80k+'])"
   ]
  },
  {
   "cell_type": "markdown",
   "id": "b5b2f534",
   "metadata": {},
   "source": [
    "#### Observation:\n"
   ]
  },
  {
   "cell_type": "markdown",
   "id": "cb319bf3",
   "metadata": {},
   "source": [
    "#### Variable ; verification_status"
   ]
  },
  {
   "cell_type": "code",
   "execution_count": 82,
   "id": "bb830300",
   "metadata": {},
   "outputs": [
    {
     "data": {
      "text/plain": [
       "Text(0.5, 1.0, '% of loan distributed against verification status')"
      ]
     },
     "execution_count": 82,
     "metadata": {},
     "output_type": "execute_result"
    },
    {
     "data": {
      "image/png": "[encoded data removed]",
      "text/plain": [
       "<Figure size 432x288 with 1 Axes>"
      ]
     },
     "metadata": {
      "needs_background": "light"
     },
     "output_type": "display_data"
    }
   ],
   "source": [
    "ay=(loan.verification_status.value_counts(normalize=True)*100).plot.bar()\n",
    "\n",
    "ay.set_xlabel('% of loan')\n",
    "ay.set_ylabel('Verification Status')\n",
    "ay.set_title('% of loan distributed against verification status')"
   ]
  },
  {
   "cell_type": "markdown",
   "id": "cdefc121",
   "metadata": {},
   "source": [
    "#### Variable : issue_d"
   ]
  },
  {
   "cell_type": "code",
   "execution_count": 83,
   "id": "c0074321",
   "metadata": {},
   "outputs": [],
   "source": [
    "#Creating Dervied columns loan_year and loan_month from the issue_d column\n",
    "import datetime\n",
    "loan.issue_d = pd.to_datetime(loan.issue_d, format='%b-%y')\n",
    "loan['loan_year'] = loan.issue_d.dt.year\n",
    "loan['loan_month'] = loan.issue_d.dt.month"
   ]
  },
  {
   "cell_type": "code",
   "execution_count": 84,
   "id": "72dc0dc9",
   "metadata": {},
   "outputs": [
    {
     "data": {
      "image/png": "[encoded data removed]",
      "text/plain": [
       "<Figure size 1440x360 with 2 Axes>"
      ]
     },
     "metadata": {
      "needs_background": "light"
     },
     "output_type": "display_data"
    }
   ],
   "source": [
    "plt.figure(figsize=(20,5))\n",
    "plt.subplot(1, 2, 1)\n",
    "ay=sns.countplot(loan['loan_year'], order=sorted(loan['loan_year'].unique()))\n",
    "ay.set_title('Loans distributed in each year')\n",
    "plt.subplot(1, 2, 2)\n",
    "ay=sns.countplot(loan['loan_month'], order=sorted(loan['loan_month'].unique()))\n",
    "ay.set_title('Loans distributed in each month')\n",
    "plt.show()"
   ]
  },
  {
   "cell_type": "code",
   "execution_count": 85,
   "id": "2ff400cf",
   "metadata": {
    "scrolled": true
   },
   "outputs": [
    {
     "data": {
      "text/plain": [
       "count   35110.000\n",
       "mean       13.452\n",
       "std         6.622\n",
       "min         0.000\n",
       "25%         8.380\n",
       "50%        13.555\n",
       "75%        18.680\n",
       "max        29.990\n",
       "Name: dti, dtype: float64"
      ]
     },
     "execution_count": 85,
     "metadata": {},
     "output_type": "execute_result"
    }
   ],
   "source": [
    "loan.dti.describe()"
   ]
  },
  {
   "cell_type": "code",
   "execution_count": 86,
   "id": "20028066",
   "metadata": {},
   "outputs": [
    {
     "data": {
      "text/plain": [
       "<AxesSubplot:>"
      ]
     },
     "execution_count": 86,
     "metadata": {},
     "output_type": "execute_result"
    },
    {
     "data": {
      "image/png": "[encoded data removed]",
      "text/plain": [
       "<Figure size 432x288 with 1 Axes>"
      ]
     },
     "metadata": {
      "needs_background": "light"
     },
     "output_type": "display_data"
    }
   ],
   "source": [
    "loan.dti.plot.box()\n",
    "\n",
    "#Observation: The dti mostly lies within 5-20"
   ]
  },
  {
   "cell_type": "code",
   "execution_count": 87,
   "id": "37c8e962",
   "metadata": {},
   "outputs": [],
   "source": [
    "#Creating dti buckets\n",
    "loan['dti_buc'] = pd.cut(loan.dti, [0, 5, 10, 15, 20, 30], labels=['0-5', '5-10','10-15', '15-20','25+'])"
   ]
  },
  {
   "cell_type": "code",
   "execution_count": 88,
   "id": "68c8a708",
   "metadata": {
    "scrolled": true
   },
   "outputs": [
    {
     "data": {
      "text/plain": [
       "count   35110.000\n",
       "mean        0.145\n",
       "std         0.492\n",
       "min         0.000\n",
       "25%         0.000\n",
       "50%         0.000\n",
       "75%         0.000\n",
       "max        11.000\n",
       "Name: delinq_2yrs, dtype: float64"
      ]
     },
     "execution_count": 88,
     "metadata": {},
     "output_type": "execute_result"
    }
   ],
   "source": [
    "loan.delinq_2yrs.describe()"
   ]
  },
  {
   "cell_type": "code",
   "execution_count": 89,
   "id": "71827043",
   "metadata": {},
   "outputs": [
    {
     "data": {
      "text/plain": [
       "<AxesSubplot:>"
      ]
     },
     "execution_count": 89,
     "metadata": {},
     "output_type": "execute_result"
    },
    {
     "data": {
      "image/png": "[encoded data removed]",
      "text/plain": [
       "<Figure size 432x288 with 1 Axes>"
      ]
     },
     "metadata": {
      "needs_background": "light"
     },
     "output_type": "display_data"
    }
   ],
   "source": [
    "loan.delinq_2yrs.plot.box()"
   ]
  },
  {
   "cell_type": "code",
   "execution_count": 90,
   "id": "244ee33f",
   "metadata": {
    "scrolled": true
   },
   "outputs": [
    {
     "data": {
      "text/plain": [
       "(array([3.4864e+04, 1.4700e+02, 4.8000e+01, 2.4000e+01, 1.3000e+01,\n",
       "        8.0000e+00, 3.0000e+00, 2.0000e+00, 0.0000e+00, 1.0000e+00]),\n",
       " array([    0.   ,  2962.335,  5924.67 ,  8887.005, 11849.34 , 14811.675,\n",
       "        17774.01 , 20736.345, 23698.68 , 26661.015, 29623.35 ]),\n",
       " <BarContainer object of 10 artists>)"
      ]
     },
     "execution_count": 90,
     "metadata": {},
     "output_type": "execute_result"
    },
    {
     "data": {
      "image/png": "[encoded data removed]",
      "text/plain": [
       "<Figure size 432x288 with 1 Axes>"
      ]
     },
     "metadata": {
      "needs_background": "light"
     },
     "output_type": "display_data"
    }
   ],
   "source": [
    "plt.hist(loan.recoveries)"
   ]
  },
  {
   "cell_type": "markdown",
   "id": "1007eb14",
   "metadata": {},
   "source": [
    "## Bivariate Analysis"
   ]
  },
  {
   "cell_type": "code",
   "execution_count": 91,
   "id": "a5fae275",
   "metadata": {},
   "outputs": [
    {
     "data": {
      "image/png": "[encoded data removed]",
      "text/plain": [
       "<Figure size 432x288 with 1 Axes>"
      ]
     },
     "metadata": {
      "needs_background": "light"
     },
     "output_type": "display_data"
    }
   ],
   "source": [
    "#Analysisng the employee grade for Fully Paid and Charged Off loans\n",
    "pd.pivot_table(data = loan, index = 'loan_status', columns = 'grade', values = 'annual_inc', aggfunc = np.median).plot.bar()\n",
    "plt.show()"
   ]
  },
  {
   "cell_type": "markdown",
   "id": "49806c70",
   "metadata": {},
   "source": [
    "#### purpose vs loan_status"
   ]
  },
  {
   "cell_type": "code",
   "execution_count": 92,
   "id": "9878c318",
   "metadata": {},
   "outputs": [
    {
     "data": {
      "text/plain": [
       "<AxesSubplot:xlabel='purpose', ylabel='count'>"
      ]
     },
     "execution_count": 92,
     "metadata": {},
     "output_type": "execute_result"
    },
    {
     "data": {
      "image/png": "[encoded data removed]",
      "text/plain": [
       "<Figure size 1800x720 with 1 Axes>"
      ]
     },
     "metadata": {
      "needs_background": "light"
     },
     "output_type": "display_data"
    }
   ],
   "source": [
    "plt.figure(figsize=(25,10))\n",
    "sns.countplot(x = 'purpose', data = loan, hue = 'loan_status')"
   ]
  },
  {
   "cell_type": "markdown",
   "id": "95cdde3e",
   "metadata": {},
   "source": [
    "#### Observation\n",
    "The plot  shows that most of the loans where taken for the purpose of Debt Consolidation & Credit Card\n",
    "#The number of loans charged off is also high for these 2."
   ]
  },
  {
   "cell_type": "code",
   "execution_count": 93,
   "id": "ae820faf",
   "metadata": {},
   "outputs": [],
   "source": [
    "#Custom function for comparison and ploting\n",
    "def comparebyLoanandPlot(df,by):\n",
    "    by_vs_loan = loan.groupby([by, 'loan_status']).id.count().unstack().reset_index()\n",
    "    by_vs_loan['Total'] = by_vs_loan['Charged Off'] + by_vs_loan['Fully Paid']\n",
    "    by_vs_loan['Charged Off %'] = round((by_vs_loan['Charged Off'] / by_vs_loan['Total']) * 100, 2)\n",
    "    print(by_vs_loan) \n",
    "    sns.barplot(data = by_vs_loan, x = by , y = 'Charged Off %')"
   ]
  },
  {
   "cell_type": "markdown",
   "id": "b2e871f4",
   "metadata": {},
   "source": [
    "#### Grade vs Loan"
   ]
  },
  {
   "cell_type": "code",
   "execution_count": 94,
   "id": "408eb9ae",
   "metadata": {},
   "outputs": [
    {
     "name": "stdout",
     "output_type": "stream",
     "text": [
      "loan_status grade  Charged Off  Fully Paid  Total  Charged Off %\n",
      "0               A          513        8589   9102          5.640\n",
      "1               B         1249        9404  10653         11.720\n",
      "2               C         1165        5961   7126         16.350\n",
      "3               D          978        3650   4628         21.130\n",
      "4               E          640        1801   2441         26.220\n",
      "5               F          281         606    887         31.680\n",
      "6               G           91         182    273         33.330\n"
     ]
    },
    {
     "data": {
      "image/png": "[encoded data removed]",
      "text/plain": [
       "<Figure size 432x288 with 1 Axes>"
      ]
     },
     "metadata": {
      "needs_background": "light"
     },
     "output_type": "display_data"
    }
   ],
   "source": [
    "comparebyLoanandPlot(loan,'grade')"
   ]
  },
  {
   "cell_type": "markdown",
   "id": "4cabff9a",
   "metadata": {},
   "source": [
    "#### Observation: \n",
    "Here it can be observed that the borrowers in the grade G & F are more likely to default\n",
    "The borrowers having Grade A has very less chances for defaulting"
   ]
  },
  {
   "cell_type": "markdown",
   "id": "c7ac0bf3",
   "metadata": {},
   "source": [
    "#### Annual Income VS Loan"
   ]
  },
  {
   "cell_type": "code",
   "execution_count": 95,
   "id": "74e05058",
   "metadata": {},
   "outputs": [
    {
     "name": "stdout",
     "output_type": "stream",
     "text": [
      "loan_status annual_inc_buc  Charged Off  Fully Paid  Total  Charged Off %\n",
      "0                    0-20k          162         716    878         18.450\n",
      "1                  20k-40k         1304        6305   7609         17.140\n",
      "2                  40k-60k         1555        8899  10454         14.870\n",
      "3                  60k-80k          918        6245   7163         12.820\n",
      "4                     80k+          474        3768   4242         11.170\n"
     ]
    },
    {
     "data": {
      "image/png": "[encoded data removed]",
      "text/plain": [
       "<Figure size 432x288 with 1 Axes>"
      ]
     },
     "metadata": {
      "needs_background": "light"
     },
     "output_type": "display_data"
    }
   ],
   "source": [
    "comparebyLoanandPlot(loan,'annual_inc_buc')"
   ]
  },
  {
   "cell_type": "markdown",
   "id": "c7c05d78",
   "metadata": {},
   "source": [
    "#### Observation:\n",
    "Here it can be observed that the borrowers having income lower than 20k are more likely to default\n",
    "than those with higher incomes\n",
    "As the income increases, the charge off % decreases"
   ]
  },
  {
   "cell_type": "code",
   "execution_count": 96,
   "id": "43d52735",
   "metadata": {},
   "outputs": [
    {
     "data": {
      "image/png": "[encoded data removed]",
      "text/plain": [
       "<Figure size 432x432 with 3 Axes>"
      ]
     },
     "metadata": {
      "needs_background": "light"
     },
     "output_type": "display_data"
    }
   ],
   "source": [
    "sns.jointplot('annual_inc', 'loan_amnt', loan[loan['annual_inc']<250000])\n",
    "plt.show()"
   ]
  },
  {
   "cell_type": "markdown",
   "id": "0101b5a1",
   "metadata": {},
   "source": [
    "#### Interest rate vs loan"
   ]
  },
  {
   "cell_type": "code",
   "execution_count": 97,
   "id": "387f6ef1",
   "metadata": {},
   "outputs": [
    {
     "name": "stdout",
     "output_type": "stream",
     "text": [
      "loan_status int_rate_buc  Charged Off  Fully Paid  Total  Charged Off %\n",
      "0                   0-10          683       10370  11053          6.180\n",
      "1                  10-12          927        6611   7538         12.300\n",
      "2                  12-15         1421        7692   9113         15.590\n",
      "3                    15+         1620        5079   6699         24.180\n"
     ]
    },
    {
     "data": {
      "image/png": "[encoded data removed]",
      "text/plain": [
       "<Figure size 432x288 with 1 Axes>"
      ]
     },
     "metadata": {
      "needs_background": "light"
     },
     "output_type": "display_data"
    }
   ],
   "source": [
    "comparebyLoanandPlot(loan,'int_rate_buc')"
   ]
  },
  {
   "cell_type": "markdown",
   "id": "085c1388",
   "metadata": {},
   "source": [
    "#### Observation: \n",
    "Here it can be observed that the loans having interest rate greater than 15% are more likely to default\n",
    "As the interest rate decreases, the charge off % decreases"
   ]
  },
  {
   "cell_type": "markdown",
   "id": "d62c1648",
   "metadata": {},
   "source": [
    "#### DTI VS Loan"
   ]
  },
  {
   "cell_type": "code",
   "execution_count": 98,
   "id": "9f204c19",
   "metadata": {},
   "outputs": [
    {
     "name": "stdout",
     "output_type": "stream",
     "text": [
      "loan_status dti_buc  Charged Off  Fully Paid  Total  Charged Off %\n",
      "0               0-5          487        3703   4190         11.620\n",
      "1              5-10          842        6197   7039         11.960\n",
      "2             10-15         1254        7601   8855         14.160\n",
      "3             15-20         1232        6919   8151         15.110\n",
      "4               25+         1080        5657   6737         16.030\n"
     ]
    },
    {
     "data": {
      "image/png": "[encoded data removed]",
      "text/plain": [
       "<Figure size 432x288 with 1 Axes>"
      ]
     },
     "metadata": {
      "needs_background": "light"
     },
     "output_type": "display_data"
    }
   ],
   "source": [
    "comparebyLoanandPlot(loan,'dti_buc')"
   ]
  },
  {
   "cell_type": "markdown",
   "id": "22608eb6",
   "metadata": {},
   "source": [
    "#### Observation:\n",
    "Here it can be observed that the borrowers having higher DTI more likely to default\n",
    "than those with lower DTI\n",
    "As the DTI decreases, the charge off % decreases\n"
   ]
  },
  {
   "cell_type": "markdown",
   "id": "80bce58a",
   "metadata": {},
   "source": [
    "#### Public Record Bankruptices VS Loan\n"
   ]
  },
  {
   "cell_type": "code",
   "execution_count": 99,
   "id": "f57f2ee1",
   "metadata": {},
   "outputs": [
    {
     "name": "stdout",
     "output_type": "stream",
     "text": [
      "loan_status  pub_rec_bankruptcies  Charged Off  Fully Paid  Total  \\\n",
      "0                           0.000         4605       29040  33645   \n",
      "1                           1.000          310        1150   1460   \n",
      "2                           2.000            2           3      5   \n",
      "\n",
      "loan_status  Charged Off %  \n",
      "0                   13.690  \n",
      "1                   21.230  \n",
      "2                   40.000  \n"
     ]
    },
    {
     "data": {
      "image/png": "[encoded data removed]",
      "text/plain": [
       "<Figure size 432x288 with 1 Axes>"
      ]
     },
     "metadata": {
      "needs_background": "light"
     },
     "output_type": "display_data"
    }
   ],
   "source": [
    "comparebyLoanandPlot(loan,'pub_rec_bankruptcies')"
   ]
  },
  {
   "cell_type": "code",
   "execution_count": 100,
   "id": "4106685d",
   "metadata": {},
   "outputs": [
    {
     "name": "stdout",
     "output_type": "stream",
     "text": [
      "loan_status  pub_rec  Charged Off  Fully Paid     Total  Charged Off %\n",
      "0                  0     4520.000   28744.000 33264.000         13.590\n",
      "1                  1      387.000    1406.000  1793.000         21.580\n",
      "2                  2       10.000      34.000    44.000         22.730\n",
      "3                  3          NaN       7.000       NaN            NaN\n",
      "4                  4          NaN       2.000       NaN            NaN\n"
     ]
    },
    {
     "data": {
      "image/png": "[encoded data removed]",
      "text/plain": [
       "<Figure size 432x288 with 1 Axes>"
      ]
     },
     "metadata": {
      "needs_background": "light"
     },
     "output_type": "display_data"
    }
   ],
   "source": [
    "comparebyLoanandPlot(loan,'pub_rec')"
   ]
  },
  {
   "cell_type": "code",
   "execution_count": 101,
   "id": "f7b64fc3",
   "metadata": {},
   "outputs": [
    {
     "data": {
      "text/html": [
       "<div>\n",
       "<style scoped>\n",
       "    .dataframe tbody tr th:only-of-type {\n",
       "        vertical-align: middle;\n",
       "    }\n",
       "\n",
       "    .dataframe tbody tr th {\n",
       "        vertical-align: top;\n",
       "    }\n",
       "\n",
       "    .dataframe thead th {\n",
       "        text-align: right;\n",
       "    }\n",
       "</style>\n",
       "<table border=\"1\" class=\"dataframe\">\n",
       "  <thead>\n",
       "    <tr style=\"text-align: right;\">\n",
       "      <th></th>\n",
       "      <th>pub_rec</th>\n",
       "      <th>pub_rec_bankruptcies</th>\n",
       "    </tr>\n",
       "  </thead>\n",
       "  <tbody>\n",
       "    <tr>\n",
       "      <th>pub_rec</th>\n",
       "      <td>1.000</td>\n",
       "      <td>0.840</td>\n",
       "    </tr>\n",
       "    <tr>\n",
       "      <th>pub_rec_bankruptcies</th>\n",
       "      <td>0.840</td>\n",
       "      <td>1.000</td>\n",
       "    </tr>\n",
       "  </tbody>\n",
       "</table>\n",
       "</div>"
      ],
      "text/plain": [
       "                      pub_rec  pub_rec_bankruptcies\n",
       "pub_rec                 1.000                 0.840\n",
       "pub_rec_bankruptcies    0.840                 1.000"
      ]
     },
     "execution_count": 101,
     "metadata": {},
     "output_type": "execute_result"
    }
   ],
   "source": [
    "loan[['pub_rec', 'pub_rec_bankruptcies']].corr()\n"
   ]
  },
  {
   "cell_type": "markdown",
   "id": "85da3f11",
   "metadata": {},
   "source": [
    "#### Observation:\n",
    "Here it can be observed that the borrowers having publically recorded derogatories or  previous bankruptcies are more likely to default than those who doesn't ."
   ]
  },
  {
   "cell_type": "markdown",
   "id": "57b11e8d",
   "metadata": {},
   "source": [
    "#### verification_status vs loan_amnt vs loan status"
   ]
  },
  {
   "cell_type": "code",
   "execution_count": 102,
   "id": "a93a7c2f",
   "metadata": {},
   "outputs": [
    {
     "data": {
      "text/plain": [
       "<AxesSubplot:xlabel='verification_status', ylabel='loan_amnt'>"
      ]
     },
     "execution_count": 102,
     "metadata": {},
     "output_type": "execute_result"
    },
    {
     "data": {
      "image/png": "[encoded data removed]",
      "text/plain": [
       "<Figure size 432x288 with 1 Axes>"
      ]
     },
     "metadata": {
      "needs_background": "light"
     },
     "output_type": "display_data"
    }
   ],
   "source": [
    "sns.barplot(x='verification_status', y='loan_amnt', hue=\"loan_status\", data=loan, estimator=np.mean)\n"
   ]
  },
  {
   "cell_type": "markdown",
   "id": "902cd8dc",
   "metadata": {},
   "source": [
    "#### Observation : \n",
    "As the loan amount increases LC make sure that the loan get verified properly"
   ]
  },
  {
   "cell_type": "markdown",
   "id": "55269032",
   "metadata": {},
   "source": [
    "#### term vs loan_amnt vs loan status"
   ]
  },
  {
   "cell_type": "code",
   "execution_count": 103,
   "id": "c8ad4812",
   "metadata": {},
   "outputs": [
    {
     "data": {
      "image/png": "[encoded data removed]",
      "text/plain": [
       "<Figure size 432x288 with 1 Axes>"
      ]
     },
     "metadata": {
      "needs_background": "light"
     },
     "output_type": "display_data"
    }
   ],
   "source": [
    "sns.barplot(x='term', y='loan_amnt', hue=\"loan_status\", data=loan, estimator=np.mean)\n",
    "plt.show()"
   ]
  },
  {
   "cell_type": "markdown",
   "id": "63c2124d",
   "metadata": {},
   "source": [
    "#### addr_state vs loan_amnt vs loan_status"
   ]
  },
  {
   "cell_type": "code",
   "execution_count": 104,
   "id": "68cf13d8",
   "metadata": {},
   "outputs": [
    {
     "data": {
      "image/png": "[encoded data removed]",
      "text/plain": [
       "<Figure size 1800x360 with 1 Axes>"
      ]
     },
     "metadata": {
      "needs_background": "light"
     },
     "output_type": "display_data"
    }
   ],
   "source": [
    "plt.figure(figsize=(25,5))\n",
    "sns.barplot(x='addr_state', y='loan_amnt', hue='loan_status',data=loan, estimator=np.mean)\n",
    "plt.show()"
   ]
  }
 ],
 "metadata": {
  "kernelspec": {
   "display_name": "Python 3",
   "language": "python",
   "name": "python3"
  },
  "language_info": {
   "codemirror_mode": {
    "name": "ipython",
    "version": 3
   },
   "file_extension": ".py",
   "mimetype": "text/x-python",
   "name": "python",
   "nbconvert_exporter": "python",
   "pygments_lexer": "ipython3",
   "version": "3.8.8"
  }
 },
 "nbformat": 4,
 "nbformat_minor": 5
}
